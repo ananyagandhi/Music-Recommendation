{
 "cells": [
  {
   "cell_type": "code",
   "execution_count": 1,
   "metadata": {
    "id": "v-6gOg5IlcAe"
   },
   "outputs": [],
   "source": [
    "from selenium import webdriver\n",
    "from selenium.webdriver.common.by import By\n",
    "import re\n",
    "from tqdm import tqdm\n",
    "import string\n",
    "import pandas as pd\n",
    "import random\n",
    "import numpy as np"
   ]
  },
  {
   "cell_type": "code",
   "execution_count": 3,
   "metadata": {
    "id": "1wB5XHSrXf5H"
   },
   "outputs": [
    {
     "name": "stderr",
     "output_type": "stream",
     "text": [
      "C:\\Users\\anany\\AppData\\Local\\Temp\\ipykernel_7860\\3676954888.py:4: DeprecationWarning: executable_path has been deprecated, please pass in a Service object\n",
      "  driver = webdriver.Edge(DRIVER_PATH)\n"
     ]
    }
   ],
   "source": [
    "# MUST DOWNLOAD EdgeDriver, ChromeDriver, or some other executable\n",
    "# store path to executable below\n",
    "DRIVER_PATH = 'msedgedriver.exe'\n",
    "driver = webdriver.Edge(DRIVER_PATH)"
   ]
  },
  {
   "cell_type": "code",
   "execution_count": 5,
   "metadata": {
    "id": "21ePFNCyldzO"
   },
   "outputs": [],
   "source": [
    "df = pd.read_csv('spotify-2023.csv', encoding='ISO-8859-1')"
   ]
  },
  {
   "cell_type": "code",
   "execution_count": null,
   "metadata": {
    "id": "oHo3Ry_8lhCq"
   },
   "outputs": [],
   "source": [
    "lyricslist = []\n",
    "base_url = \"https://www.azlyrics.com/lyrics/{}/{}.html\"\n",
    "\n",
    "for row in tqdm(df[['track_name', 'artist(s)_name']].values):\n",
    "    artists = row[1].split(',')\n",
    "    lyrics = None\n",
    "    title = row[0]\n",
    "\n",
    "    for artist in artists:\n",
    "        artist = artist.lower()\n",
    "\n",
    "        if artist[:4] == \"the \":\n",
    "            artist = ''.join(artist.split('the '))\n",
    "\n",
    "        artist = ''.join(artist.split(' '))\n",
    "        artist = artist.translate(str.maketrans('', '', string.punctuation))\n",
    "\n",
    "        title = re.sub(r'[\\(\\[].*?[\\)\\]]', '', row[0])\n",
    "        title = ''.join(title.split(' '))\n",
    "        title = title.translate(str.maketrans('', '', string.punctuation)).lower()\n",
    "\n",
    "        if ' - ' in title:\n",
    "            title, _ = title.split(' - ')\n",
    "\n",
    "        if '-' in title:\n",
    "            title = ''.join(title.split('-'))\n",
    "\n",
    "        url = base_url.format(artist, title)\n",
    "\n",
    "        try:\n",
    "            driver.get(url)\n",
    "            driver.implicitly_wait(random.randint(8, 13))\n",
    "            lyrics = driver.find_element(By.XPATH, '/html/body/div[3]/div[2]/div[2]/div[5]').text\n",
    "\n",
    "        except Exception as e:\n",
    "            pass\n",
    "\n",
    "        finally:\n",
    "            if lyrics is not None:\n",
    "                break\n",
    "\n",
    "    lyricslist.append(lyrics)"
   ]
  },
  {
   "cell_type": "code",
   "execution_count": null,
   "metadata": {
    "id": "V-fMSP9vWvKW"
   },
   "outputs": [],
   "source": [
    "df['Lyrics'] = lyricslist\n",
    "df = df.fillna(value=np.nan)\n",
    "df.to_csv(\"spotify_with_lyrics.csv\", encoding='UTF-8', index=False)"
   ]
  }
 ],
 "metadata": {
  "colab": {
   "provenance": []
  },
  "kernelspec": {
   "display_name": "Python 3 (ipykernel)",
   "language": "python",
   "name": "python3"
  },
  "language_info": {
   "codemirror_mode": {
    "name": "ipython",
    "version": 3
   },
   "file_extension": ".py",
   "mimetype": "text/x-python",
   "name": "python",
   "nbconvert_exporter": "python",
   "pygments_lexer": "ipython3",
   "version": "3.10.6"
  }
 },
 "nbformat": 4,
 "nbformat_minor": 1
}
