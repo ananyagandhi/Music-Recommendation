{
 "cells": [
  {
   "cell_type": "code",
   "execution_count": 1,
   "metadata": {},
   "outputs": [],
   "source": [
    "# Imports and Data Files\n",
    "import pandas as pd\n",
    "import numpy as np\n",
    "import seaborn as sns\n",
    "import matplotlib.pyplot as plt\n",
    "import warnings\n",
    "df = pd.read_csv('https://www1.columbia.edu/~chw2/Courses/APMA4903/2023/spotify-2023.csv', encoding='ISO-8859-1')"
   ]
  },
  {
   "cell_type": "markdown",
   "metadata": {},
   "source": [
    "# Enter Liked / Disliked Songs Below"
   ]
  },
  {
   "cell_type": "code",
   "execution_count": 13,
   "metadata": {},
   "outputs": [
    {
     "name": "stdout",
     "output_type": "stream",
     "text": [
      "Please enter 5 songs you like and 5 songs you dislike.\n"
     ]
    },
    {
     "data": {
      "application/vnd.jupyter.widget-view+json": {
       "model_id": "1e746c41515e4da4a4470884af09db73",
       "version_major": 2,
       "version_minor": 0
      },
      "text/plain": [
       "Dropdown(description='Like 1:', options=('Seven (feat. Latto) (Explicit Ver.) BY Latto, Jung Kook', 'LALA BY M…"
      ]
     },
     "metadata": {},
     "output_type": "display_data"
    },
    {
     "data": {
      "application/vnd.jupyter.widget-view+json": {
       "model_id": "d6b3913802694f9491257a61a1dfc66f",
       "version_major": 2,
       "version_minor": 0
      },
      "text/plain": [
       "Dropdown(description='Like 2:', options=('Seven (feat. Latto) (Explicit Ver.) BY Latto, Jung Kook', 'LALA BY M…"
      ]
     },
     "metadata": {},
     "output_type": "display_data"
    },
    {
     "data": {
      "application/vnd.jupyter.widget-view+json": {
       "model_id": "4ef80522981c43829bd999ac5d70f8d3",
       "version_major": 2,
       "version_minor": 0
      },
      "text/plain": [
       "Dropdown(description='Like 3:', options=('Seven (feat. Latto) (Explicit Ver.) BY Latto, Jung Kook', 'LALA BY M…"
      ]
     },
     "metadata": {},
     "output_type": "display_data"
    },
    {
     "data": {
      "application/vnd.jupyter.widget-view+json": {
       "model_id": "504bb341d67744f4be8cd14aea3f8436",
       "version_major": 2,
       "version_minor": 0
      },
      "text/plain": [
       "Dropdown(description='Like 4:', options=('Seven (feat. Latto) (Explicit Ver.) BY Latto, Jung Kook', 'LALA BY M…"
      ]
     },
     "metadata": {},
     "output_type": "display_data"
    },
    {
     "data": {
      "application/vnd.jupyter.widget-view+json": {
       "model_id": "340e2672750c4fd4a6440e066b1432f9",
       "version_major": 2,
       "version_minor": 0
      },
      "text/plain": [
       "Dropdown(description='Like 5:', options=('Seven (feat. Latto) (Explicit Ver.) BY Latto, Jung Kook', 'LALA BY M…"
      ]
     },
     "metadata": {},
     "output_type": "display_data"
    },
    {
     "data": {
      "application/vnd.jupyter.widget-view+json": {
       "model_id": "9c64ee4f3d2b4877b4364f84267d7b5f",
       "version_major": 2,
       "version_minor": 0
      },
      "text/plain": [
       "Dropdown(description='Dislike 1:', options=('Seven (feat. Latto) (Explicit Ver.) BY Latto, Jung Kook', 'LALA B…"
      ]
     },
     "metadata": {},
     "output_type": "display_data"
    },
    {
     "data": {
      "application/vnd.jupyter.widget-view+json": {
       "model_id": "f59ad9d74493463485ec805cf34bc38d",
       "version_major": 2,
       "version_minor": 0
      },
      "text/plain": [
       "Dropdown(description='Dislike 2:', options=('Seven (feat. Latto) (Explicit Ver.) BY Latto, Jung Kook', 'LALA B…"
      ]
     },
     "metadata": {},
     "output_type": "display_data"
    },
    {
     "data": {
      "application/vnd.jupyter.widget-view+json": {
       "model_id": "aa77d56bcaa84f9b8abc3485b8ec8b4c",
       "version_major": 2,
       "version_minor": 0
      },
      "text/plain": [
       "Dropdown(description='Dislike 3:', options=('Seven (feat. Latto) (Explicit Ver.) BY Latto, Jung Kook', 'LALA B…"
      ]
     },
     "metadata": {},
     "output_type": "display_data"
    },
    {
     "data": {
      "application/vnd.jupyter.widget-view+json": {
       "model_id": "9ebdb2ff783a4721887214c2b08b3c84",
       "version_major": 2,
       "version_minor": 0
      },
      "text/plain": [
       "Dropdown(description='Dislike 4:', options=('Seven (feat. Latto) (Explicit Ver.) BY Latto, Jung Kook', 'LALA B…"
      ]
     },
     "metadata": {},
     "output_type": "display_data"
    },
    {
     "data": {
      "application/vnd.jupyter.widget-view+json": {
       "model_id": "7077efa747794106961ede77dbffd611",
       "version_major": 2,
       "version_minor": 0
      },
      "text/plain": [
       "Dropdown(description='Dislike 5:', options=('Seven (feat. Latto) (Explicit Ver.) BY Latto, Jung Kook', 'LALA B…"
      ]
     },
     "metadata": {},
     "output_type": "display_data"
    },
    {
     "data": {
      "application/vnd.jupyter.widget-view+json": {
       "model_id": "911b6b1353884f4882746456a697bc1b",
       "version_major": 2,
       "version_minor": 0
      },
      "text/plain": [
       "Button(description='Run Notebook', style=ButtonStyle())"
      ]
     },
     "metadata": {},
     "output_type": "display_data"
    }
   ],
   "source": [
    "import ipywidgets as widgets\n",
    "from IPython.display import display, clear_output\n",
    "\n",
    "column = df['track_name'] + ' BY ' + df['artist(s)_name']\n",
    "user_likes = []\n",
    "user_dislikes = []\n",
    "\n",
    "def create_dropdown(options, description):\n",
    "    dropdown = widgets.Dropdown(\n",
    "        options=column,\n",
    "        value=column[0],  # Set default value if needed\n",
    "        description=description\n",
    "    )\n",
    "    return dropdown\n",
    "\n",
    "# Create and display 5 liked song dropdowns\n",
    "print(\"Please enter 5 songs you like and 5 songs you dislike.\")\n",
    "liked_dropdowns = [create_dropdown(column, f\"Like {i+1}:\") for i in range(5)]\n",
    "for dropdown in liked_dropdowns:\n",
    "    display(dropdown)\n",
    "\n",
    "# Create and display 5 disliked song dropdowns\n",
    "disliked_dropdowns = [create_dropdown(column, f\"Dislike {i+1}:\") for i in range(5)]\n",
    "for dropdown in disliked_dropdowns:\n",
    "    display(dropdown)\n",
    "\n",
    "# Create a button widget\n",
    "run_button = widgets.Button(description='Run Notebook')\n",
    "\n",
    "# Function to be called when the button is clicked\n",
    "def on_button_click(b):\n",
    "    clear_output()  # Clear the previous output\n",
    "    \n",
    "    # Get selected liked songs and add them to the list\n",
    "    for dropdown in liked_dropdowns:\n",
    "        track, artist = dropdown.value.split(' BY ')\n",
    "        user_likes.append({'track_name': track, \n",
    "                       'artist(s)_name': artist}) \n",
    "    print(f'Liked Songs Selected: {user_likes}')\n",
    "    \n",
    "    # Get selected disliked songs and add them to the list\n",
    "    for dropdown in disliked_dropdowns:\n",
    "        track, artist = dropdown.value.split(' BY ')\n",
    "        user_dislikes.append({'track_name': track, \n",
    "                       'artist(s)_name': artist}) \n",
    "    print(f'Disliked Songs Selected: {user_dislikes}')\n",
    "\n",
    "# Attach the function to the button click event\n",
    "run_button.on_click(on_button_click)\n",
    "\n",
    "# Display the button\n",
    "display(run_button)"
   ]
  },
  {
   "cell_type": "code",
   "execution_count": 14,
   "metadata": {},
   "outputs": [
    {
     "data": {
      "text/html": [
       "<div>\n",
       "<style scoped>\n",
       "    .dataframe tbody tr th:only-of-type {\n",
       "        vertical-align: middle;\n",
       "    }\n",
       "\n",
       "    .dataframe tbody tr th {\n",
       "        vertical-align: top;\n",
       "    }\n",
       "\n",
       "    .dataframe thead th {\n",
       "        text-align: right;\n",
       "    }\n",
       "</style>\n",
       "<table border=\"1\" class=\"dataframe\">\n",
       "  <thead>\n",
       "    <tr style=\"text-align: right;\">\n",
       "      <th></th>\n",
       "      <th>track_name</th>\n",
       "      <th>artist(s)_name</th>\n",
       "    </tr>\n",
       "  </thead>\n",
       "  <tbody>\n",
       "    <tr>\n",
       "      <th>0</th>\n",
       "      <td>vampire</td>\n",
       "      <td>Olivia Rodrigo</td>\n",
       "    </tr>\n",
       "    <tr>\n",
       "      <th>1</th>\n",
       "      <td>Cruel Summer</td>\n",
       "      <td>Taylor Swift</td>\n",
       "    </tr>\n",
       "    <tr>\n",
       "      <th>2</th>\n",
       "      <td>As It Was</td>\n",
       "      <td>Harry Styles</td>\n",
       "    </tr>\n",
       "    <tr>\n",
       "      <th>3</th>\n",
       "      <td>Flowers</td>\n",
       "      <td>Miley Cyrus</td>\n",
       "    </tr>\n",
       "    <tr>\n",
       "      <th>4</th>\n",
       "      <td>Dance The Night (From Barbie The Album)</td>\n",
       "      <td>Dua Lipa</td>\n",
       "    </tr>\n",
       "  </tbody>\n",
       "</table>\n",
       "</div>"
      ],
      "text/plain": [
       "                                track_name  artist(s)_name\n",
       "0                                  vampire  Olivia Rodrigo\n",
       "1                             Cruel Summer    Taylor Swift\n",
       "2                                As It Was    Harry Styles\n",
       "3                                  Flowers     Miley Cyrus\n",
       "4  Dance The Night (From Barbie The Album)        Dua Lipa"
      ]
     },
     "execution_count": 14,
     "metadata": {},
     "output_type": "execute_result"
    }
   ],
   "source": [
    "user_likes, user_dislikes = pd.DataFrame(user_likes), pd.DataFrame(user_dislikes)\n",
    "user_likes"
   ]
  },
  {
   "cell_type": "code",
   "execution_count": 15,
   "metadata": {},
   "outputs": [
    {
     "data": {
      "text/html": [
       "<div>\n",
       "<style scoped>\n",
       "    .dataframe tbody tr th:only-of-type {\n",
       "        vertical-align: middle;\n",
       "    }\n",
       "\n",
       "    .dataframe tbody tr th {\n",
       "        vertical-align: top;\n",
       "    }\n",
       "\n",
       "    .dataframe thead th {\n",
       "        text-align: right;\n",
       "    }\n",
       "</style>\n",
       "<table border=\"1\" class=\"dataframe\">\n",
       "  <thead>\n",
       "    <tr style=\"text-align: right;\">\n",
       "      <th></th>\n",
       "      <th>track_name</th>\n",
       "      <th>artist(s)_name</th>\n",
       "    </tr>\n",
       "  </thead>\n",
       "  <tbody>\n",
       "    <tr>\n",
       "      <th>0</th>\n",
       "      <td>Seven (feat. Latto) (Explicit Ver.)</td>\n",
       "      <td>Latto, Jung Kook</td>\n",
       "    </tr>\n",
       "    <tr>\n",
       "      <th>1</th>\n",
       "      <td>Cupid - Twin Ver.</td>\n",
       "      <td>Fifty Fifty</td>\n",
       "    </tr>\n",
       "    <tr>\n",
       "      <th>2</th>\n",
       "      <td>Makeba</td>\n",
       "      <td>Jain</td>\n",
       "    </tr>\n",
       "    <tr>\n",
       "      <th>3</th>\n",
       "      <td>Shivers</td>\n",
       "      <td>Ed Sheeran</td>\n",
       "    </tr>\n",
       "    <tr>\n",
       "      <th>4</th>\n",
       "      <td>golden hour</td>\n",
       "      <td>JVKE</td>\n",
       "    </tr>\n",
       "  </tbody>\n",
       "</table>\n",
       "</div>"
      ],
      "text/plain": [
       "                            track_name    artist(s)_name\n",
       "0  Seven (feat. Latto) (Explicit Ver.)  Latto, Jung Kook\n",
       "1                    Cupid - Twin Ver.       Fifty Fifty\n",
       "2                               Makeba              Jain\n",
       "3                              Shivers        Ed Sheeran\n",
       "4                          golden hour              JVKE"
      ]
     },
     "execution_count": 15,
     "metadata": {},
     "output_type": "execute_result"
    }
   ],
   "source": [
    "user_dislikes"
   ]
  },
  {
   "cell_type": "code",
   "execution_count": 16,
   "metadata": {
    "colab": {
     "base_uri": "https://localhost:8080/"
    },
    "id": "v-VIOT-Z1luu",
    "outputId": "05be206d-2d7f-4d4d-8331-0c1f8434fce3"
   },
   "outputs": [
    {
     "name": "stdout",
     "output_type": "stream",
     "text": [
      "['track_name', 'artist(s)_name', 'artist_count', 'released_year', 'released_month', 'released_day', 'in_spotify_playlists', 'in_spotify_charts', 'streams', 'in_apple_playlists', 'in_apple_charts', 'in_deezer_playlists', 'in_deezer_charts', 'in_shazam_charts', 'bpm', 'key', 'mode', 'danceability_%', 'valence_%', 'energy_%', 'acousticness_%', 'instrumentalness_%', 'liveness_%', 'speechiness_%']\n"
     ]
    }
   ],
   "source": [
    "features = df.columns.values.tolist()\n",
    "print(features)"
   ]
  },
  {
   "cell_type": "markdown",
   "metadata": {
    "id": "UOyi-_Znk_wa"
   },
   "source": [
    "# Audio Based Recommendations"
   ]
  },
  {
   "cell_type": "markdown",
   "metadata": {
    "id": "1UW0mgnEp86m"
   },
   "source": [
    "## Preprocessing\n",
    "Create function that labels song likeability label by specific individual's liked and disliked songs"
   ]
  },
  {
   "cell_type": "code",
   "execution_count": 17,
   "metadata": {
    "colab": {
     "base_uri": "https://localhost:8080/"
    },
    "id": "q6iyzKxZo-82",
    "outputId": "0a061c4e-faa7-412a-894a-656588915976"
   },
   "outputs": [
    {
     "name": "stdout",
     "output_type": "stream",
     "text": [
      "['bpm', 'danceability_%', 'valence_%', 'energy_%', 'acousticness_%', 'instrumentalness_%', 'liveness_%', 'speechiness_%']\n"
     ]
    }
   ],
   "source": [
    "#get relevant numerical features\n",
    "numerical_labels = df._get_numeric_data().columns.values.tolist()\n",
    "num_features = numerical_labels[9:]\n",
    "print(num_features)\n",
    "ohe_features = []\n",
    "feature_names = numerical_labels + ohe_features\n",
    "ALL_FEATURES = False"
   ]
  },
  {
   "cell_type": "markdown",
   "metadata": {
    "id": "QUbgWtwHAQOL"
   },
   "source": [
    "### Explore Correlations between Numerical Features\n",
    "High correlation between # spotify playlists and # of apple playlists, but otherwise different features are not heavily correlated."
   ]
  },
  {
   "cell_type": "code",
   "execution_count": 18,
   "metadata": {
    "colab": {
     "base_uri": "https://localhost:8080/",
     "height": 959
    },
    "id": "0ZITdzQVAPJe",
    "outputId": "e07176d6-6bd4-4943-c8f9-f385f42746e2"
   },
   "outputs": [
    {
     "data": {
      "image/png": "[encoded data removed]",
      "text/plain": [
       "<Figure size 2000x1500 with 2 Axes>"
      ]
     },
     "metadata": {},
     "output_type": "display_data"
    }
   ],
   "source": [
    "correlation_matrix = df[numerical_labels].corr()\n",
    "plt.figure(figsize=(20, 15))  # Set the figure size\n",
    "sns.heatmap(correlation_matrix, annot=True, cmap='coolwarm', fmt=\".2f\")\n",
    "plt.title(\"Correlation Matrix\")\n",
    "plt.show()"
   ]
  },
  {
   "cell_type": "markdown",
   "metadata": {
    "id": "kbrxC7zpAW8I"
   },
   "source": [
    "### Generate Labels using User Likes/Dislikes"
   ]
  },
  {
   "cell_type": "code",
   "execution_count": 19,
   "metadata": {
    "id": "B6iJX_9VqKER"
   },
   "outputs": [],
   "source": [
    "def generate_labels(df, liked, disliked):\n",
    "    liked_titles, liked_artists = list(liked[\"track_name\"].values), list(liked[\"artist(s)_name\"].values)\n",
    "    disliked_titles, disliked_artists = list(disliked[\"track_name\"].values), list(disliked[\"artist(s)_name\"].values)\n",
    "    all_titles = liked_titles + disliked_titles    \n",
    "    training = df[df['track_name'].isin(all_titles)]\n",
    "    testing = df[~df['track_name'].isin(all_titles)]\n",
    "    \n",
    "    with warnings.catch_warnings():\n",
    "        warnings.simplefilter(\"ignore\")\n",
    "        training.loc[:, 'liked_label'] = np.where(training['track_name'].isin(liked_titles), 1, -1)\n",
    "\n",
    "    return training, testing"
   ]
  },
  {
   "cell_type": "code",
   "execution_count": 20,
   "metadata": {
    "id": "5QYjKbMxTb6m"
   },
   "outputs": [],
   "source": [
    "def generate_plot_weights(model, isBoosting=False):\n",
    "    if isBoosting:\n",
    "        weights = model.feature_importances_\n",
    "    else:\n",
    "        weights = model.coef_[0]\n",
    "    \n",
    "    cols = feature_names if ALL_FEATURES else num_features\n",
    "    plt.bar(cols, weights)\n",
    "    plt.xlabel('Category')\n",
    "    plt.ylabel('Weight Assigned')\n",
    "    plt.title('Weight Assigned per Feature')\n",
    "    plt.xticks(rotation=90)\n",
    "    plt.show()"
   ]
  },
  {
   "cell_type": "markdown",
   "metadata": {
    "id": "5ZavXACOzVSn"
   },
   "source": [
    "## Logistic Regression"
   ]
  },
  {
   "cell_type": "code",
   "execution_count": 21,
   "metadata": {
    "id": "EqdOYug5ruH1"
   },
   "outputs": [],
   "source": [
    "from sklearn.model_selection import train_test_split, cross_val_score\n",
    "from sklearn.preprocessing import StandardScaler\n",
    "from sklearn.compose import ColumnTransformer\n",
    "from sklearn.compose import make_column_transformer\n",
    "from sklearn.pipeline import Pipeline, make_pipeline\n",
    "from sklearn.linear_model import LogisticRegression\n",
    "import numpy as np\n",
    "\n",
    "def SongLogisticRegression(likes, dislikes):\n",
    "    train, test = generate_labels(df, likes, dislikes)\n",
    "    dev_y = train.loc[:, ['liked_label']]\n",
    "    dev_X = train.loc[:, train.columns != 'liked_label']\n",
    "    test_X = test.loc[:, test.columns != 'liked_label']\n",
    "\n",
    "    with warnings.catch_warnings():\n",
    "        warnings.simplefilter(\"ignore\")\n",
    "\n",
    "        if ALL_FEATURES:\n",
    "          preprocess = make_column_transformer((StandardScaler(), feature_names))\n",
    "\n",
    "        else:\n",
    "          preprocess = make_column_transformer((StandardScaler(), num_features))\n",
    "\n",
    "        logisticRegr = LogisticRegression()\n",
    "        pipe = make_pipeline(preprocess, logisticRegr)\n",
    "\n",
    "        pipe.fit(dev_X, dev_y)\n",
    "        test_X.loc[:, 'pred'] = pipe.predict_proba(test_X)[:,1] * pipe.predict(test_X)\n",
    "    \n",
    "    return test_X, logisticRegr"
   ]
  },
  {
   "cell_type": "markdown",
   "metadata": {
    "id": "Kk69oWfrB4Kz"
   },
   "source": [
    "#### Predictions for User"
   ]
  },
  {
   "cell_type": "code",
   "execution_count": 22,
   "metadata": {
    "colab": {
     "base_uri": "https://localhost:8080/",
     "height": 812
    },
    "id": "-aBiMU-PuETT",
    "outputId": "115cfddf-9440-4680-b334-e4a08d24e6b6"
   },
   "outputs": [
    {
     "data": {
      "text/html": [
       "<div>\n",
       "<style scoped>\n",
       "    .dataframe tbody tr th:only-of-type {\n",
       "        vertical-align: middle;\n",
       "    }\n",
       "\n",
       "    .dataframe tbody tr th {\n",
       "        vertical-align: top;\n",
       "    }\n",
       "\n",
       "    .dataframe thead th {\n",
       "        text-align: right;\n",
       "    }\n",
       "</style>\n",
       "<table border=\"1\" class=\"dataframe\">\n",
       "  <thead>\n",
       "    <tr style=\"text-align: right;\">\n",
       "      <th></th>\n",
       "      <th>track_name</th>\n",
       "      <th>artist(s)_name</th>\n",
       "      <th>pred</th>\n",
       "    </tr>\n",
       "  </thead>\n",
       "  <tbody>\n",
       "    <tr>\n",
       "      <th>935</th>\n",
       "      <td>On BS</td>\n",
       "      <td>Drake, 21 Savage</td>\n",
       "      <td>0.997725</td>\n",
       "    </tr>\n",
       "    <tr>\n",
       "      <th>726</th>\n",
       "      <td>O.O</td>\n",
       "      <td>NMIXX</td>\n",
       "      <td>0.997253</td>\n",
       "    </tr>\n",
       "    <tr>\n",
       "      <th>670</th>\n",
       "      <td>Down Under (feat. Colin Hay)</td>\n",
       "      <td>Luude, Colin Hay</td>\n",
       "      <td>0.994712</td>\n",
       "    </tr>\n",
       "    <tr>\n",
       "      <th>655</th>\n",
       "      <td>City of Gods</td>\n",
       "      <td>Kanye West, Alicia Keys, Fivio Foreign</td>\n",
       "      <td>0.993547</td>\n",
       "    </tr>\n",
       "    <tr>\n",
       "      <th>930</th>\n",
       "      <td>Casei Com a Putaria</td>\n",
       "      <td>MC Ryan SP, Love Funk, Mc Paiva ZS</td>\n",
       "      <td>0.993523</td>\n",
       "    </tr>\n",
       "  </tbody>\n",
       "</table>\n",
       "</div>"
      ],
      "text/plain": [
       "                       track_name                          artist(s)_name  \\\n",
       "935                         On BS                        Drake, 21 Savage   \n",
       "726                           O.O                                   NMIXX   \n",
       "670  Down Under (feat. Colin Hay)                        Luude, Colin Hay   \n",
       "655                  City of Gods  Kanye West, Alicia Keys, Fivio Foreign   \n",
       "930           Casei Com a Putaria      MC Ryan SP, Love Funk, Mc Paiva ZS   \n",
       "\n",
       "         pred  \n",
       "935  0.997725  \n",
       "726  0.997253  \n",
       "670  0.994712  \n",
       "655  0.993547  \n",
       "930  0.993523  "
      ]
     },
     "execution_count": 22,
     "metadata": {},
     "output_type": "execute_result"
    }
   ],
   "source": [
    "predictions, model = SongLogisticRegression(user_likes, user_dislikes)\n",
    "predictions[['track_name', 'artist(s)_name', 'pred']].sort_values('pred', ascending=False).head(5)"
   ]
  },
  {
   "cell_type": "code",
   "execution_count": 23,
   "metadata": {
    "colab": {
     "base_uri": "https://localhost:8080/",
     "height": 598
    },
    "id": "AIWLvZXwGPQj",
    "outputId": "99c1c4d4-d7c6-4570-f470-5dac5256d679"
   },
   "outputs": [
    {
     "data": {
      "image/png": "[encoded data removed]",
      "text/plain": [
       "<Figure size 640x480 with 1 Axes>"
      ]
     },
     "metadata": {},
     "output_type": "display_data"
    }
   ],
   "source": [
    "generate_plot_weights(model)"
   ]
  },
  {
   "cell_type": "markdown",
   "metadata": {
    "id": "GL1pSfhdkn8h"
   },
   "source": [
    "## Support Vector Machines (SVMs)"
   ]
  },
  {
   "cell_type": "code",
   "execution_count": 24,
   "metadata": {
    "id": "lpX6FqVDkn8k"
   },
   "outputs": [],
   "source": [
    "from sklearn.model_selection import train_test_split, cross_val_score\n",
    "from sklearn.preprocessing import StandardScaler\n",
    "from sklearn.compose import ColumnTransformer\n",
    "from sklearn.compose import make_column_transformer\n",
    "from sklearn.pipeline import Pipeline, make_pipeline\n",
    "from sklearn.svm import LinearSVC\n",
    "import numpy as np\n",
    "\n",
    "def sigmoid(x):\n",
    "    return 1 / (1 + np.exp(-x))\n",
    "\n",
    "def SongsSVM(likes, dislikes):\n",
    "    train, test = generate_labels(df, likes, dislikes)\n",
    "    dev_y = train.loc[:, ['liked_label']]\n",
    "    dev_X = train.loc[:, train.columns != 'liked_label']\n",
    "    test_X = test.loc[:, test.columns != 'liked_label']\n",
    "\n",
    "    with warnings.catch_warnings():\n",
    "        warnings.simplefilter(\"ignore\")\n",
    "\n",
    "        if ALL_FEATURES:\n",
    "            preprocess = make_column_transformer((StandardScaler(), feature_names))\n",
    "\n",
    "        else:\n",
    "            preprocess = make_column_transformer((StandardScaler(), num_features))\n",
    "\n",
    "        svmRegr = LinearSVC(C=0.1, penalty='l2', loss='squared_hinge', dual=True)\n",
    "        pipe = make_pipeline(preprocess, svmRegr)\n",
    "\n",
    "        pipe.fit(dev_X, dev_y)\n",
    "        probs = sigmoid(pipe.decision_function(test_X))\n",
    "        test_X.loc[:, 'pred'] = probs * pipe.predict(test_X)\n",
    "        \n",
    "    return test_X, svmRegr"
   ]
  },
  {
   "cell_type": "code",
   "execution_count": 25,
   "metadata": {
    "colab": {
     "base_uri": "https://localhost:8080/",
     "height": 777
    },
    "id": "eUoGvGe8kn8l",
    "outputId": "c6d39f94-739b-4128-8337-6980462074a0"
   },
   "outputs": [
    {
     "data": {
      "text/html": [
       "<div>\n",
       "<style scoped>\n",
       "    .dataframe tbody tr th:only-of-type {\n",
       "        vertical-align: middle;\n",
       "    }\n",
       "\n",
       "    .dataframe tbody tr th {\n",
       "        vertical-align: top;\n",
       "    }\n",
       "\n",
       "    .dataframe thead th {\n",
       "        text-align: right;\n",
       "    }\n",
       "</style>\n",
       "<table border=\"1\" class=\"dataframe\">\n",
       "  <thead>\n",
       "    <tr style=\"text-align: right;\">\n",
       "      <th></th>\n",
       "      <th>track_name</th>\n",
       "      <th>artist(s)_name</th>\n",
       "      <th>pred</th>\n",
       "    </tr>\n",
       "  </thead>\n",
       "  <tbody>\n",
       "    <tr>\n",
       "      <th>935</th>\n",
       "      <td>On BS</td>\n",
       "      <td>Drake, 21 Savage</td>\n",
       "      <td>0.921029</td>\n",
       "    </tr>\n",
       "    <tr>\n",
       "      <th>726</th>\n",
       "      <td>O.O</td>\n",
       "      <td>NMIXX</td>\n",
       "      <td>0.898857</td>\n",
       "    </tr>\n",
       "    <tr>\n",
       "      <th>655</th>\n",
       "      <td>City of Gods</td>\n",
       "      <td>Kanye West, Alicia Keys, Fivio Foreign</td>\n",
       "      <td>0.874874</td>\n",
       "    </tr>\n",
       "    <tr>\n",
       "      <th>930</th>\n",
       "      <td>Casei Com a Putaria</td>\n",
       "      <td>MC Ryan SP, Love Funk, Mc Paiva ZS</td>\n",
       "      <td>0.874604</td>\n",
       "    </tr>\n",
       "    <tr>\n",
       "      <th>928</th>\n",
       "      <td>California Breeze</td>\n",
       "      <td>Lil Baby</td>\n",
       "      <td>0.874314</td>\n",
       "    </tr>\n",
       "  </tbody>\n",
       "</table>\n",
       "</div>"
      ],
      "text/plain": [
       "              track_name                          artist(s)_name      pred\n",
       "935                On BS                        Drake, 21 Savage  0.921029\n",
       "726                  O.O                                   NMIXX  0.898857\n",
       "655         City of Gods  Kanye West, Alicia Keys, Fivio Foreign  0.874874\n",
       "930  Casei Com a Putaria      MC Ryan SP, Love Funk, Mc Paiva ZS  0.874604\n",
       "928    California Breeze                                Lil Baby  0.874314"
      ]
     },
     "execution_count": 25,
     "metadata": {},
     "output_type": "execute_result"
    }
   ],
   "source": [
    "svm_predictions, svm_model = SongsSVM(user_likes, user_dislikes)\n",
    "svm_predictions[['track_name', 'artist(s)_name', 'pred']].sort_values('pred', ascending=False).head(5)"
   ]
  },
  {
   "cell_type": "code",
   "execution_count": 26,
   "metadata": {
    "colab": {
     "base_uri": "https://localhost:8080/",
     "height": 598
    },
    "id": "mLRu6OueHuvP",
    "outputId": "18ed4196-1949-4b36-9df9-5bd9bdb55f65"
   },
   "outputs": [
    {
     "data": {
      "image/png": "[encoded data removed]",
      "text/plain": [
       "<Figure size 640x480 with 1 Axes>"
      ]
     },
     "metadata": {},
     "output_type": "display_data"
    }
   ],
   "source": [
    "generate_plot_weights(svm_model)"
   ]
  },
  {
   "cell_type": "markdown",
   "metadata": {
    "id": "e8YXTYHdng7E"
   },
   "source": [
    "## Boosting"
   ]
  },
  {
   "cell_type": "code",
   "execution_count": 27,
   "metadata": {
    "id": "5YtU-Cvjnza2"
   },
   "outputs": [],
   "source": [
    "from sklearn.model_selection import train_test_split, cross_val_score, GridSearchCV\n",
    "from sklearn.preprocessing import StandardScaler\n",
    "from sklearn.compose import ColumnTransformer\n",
    "from sklearn.compose import make_column_transformer\n",
    "from sklearn.pipeline import Pipeline, make_pipeline\n",
    "from sklearn.ensemble import AdaBoostRegressor\n",
    "from sklearn.tree import DecisionTreeRegressor\n",
    "import numpy as np\n",
    "\n",
    "def SongsBoosting(likes, dislikes):\n",
    "    train, test = generate_labels(df, likes, dislikes)\n",
    "    dev_y = train.loc[:, ['liked_label']]\n",
    "    dev_X = train.loc[:, train.columns != 'liked_label']\n",
    "    test_X = test.loc[:, test.columns != 'liked_label']\n",
    "    param_grid = {'n_estimators': [50,100,200],\n",
    "                'learning_rate':np.logspace(-3,0,4)}\n",
    "\n",
    "    with warnings.catch_warnings():\n",
    "        warnings.simplefilter(\"ignore\")\n",
    "\n",
    "        if ALL_FEATURES:\n",
    "            preprocess = make_column_transformer((StandardScaler(), feature_names))\n",
    "\n",
    "        else:\n",
    "            preprocess = make_column_transformer((StandardScaler(), num_features))\n",
    "\n",
    "        boostRegr = AdaBoostRegressor(DecisionTreeRegressor(), random_state=42)\n",
    "        pipe = make_pipeline(preprocess, GridSearchCV(boostRegr, param_grid = param_grid))\n",
    "        pipe.fit(dev_X, dev_y)\n",
    "        test_X['pred'] = pipe.predict(test_X)\n",
    "        best_model = pipe.named_steps['gridsearchcv'].best_estimator_\n",
    "\n",
    "    return test_X, best_model"
   ]
  },
  {
   "cell_type": "code",
   "execution_count": 28,
   "metadata": {
    "colab": {
     "base_uri": "https://localhost:8080/",
     "height": 725
    },
    "id": "geJCfwjln9EI",
    "outputId": "2e12a9ea-4143-4ecf-8749-ca74b217f69d"
   },
   "outputs": [
    {
     "data": {
      "text/html": [
       "<div>\n",
       "<style scoped>\n",
       "    .dataframe tbody tr th:only-of-type {\n",
       "        vertical-align: middle;\n",
       "    }\n",
       "\n",
       "    .dataframe tbody tr th {\n",
       "        vertical-align: top;\n",
       "    }\n",
       "\n",
       "    .dataframe thead th {\n",
       "        text-align: right;\n",
       "    }\n",
       "</style>\n",
       "<table border=\"1\" class=\"dataframe\">\n",
       "  <thead>\n",
       "    <tr style=\"text-align: right;\">\n",
       "      <th></th>\n",
       "      <th>track_name</th>\n",
       "      <th>artist(s)_name</th>\n",
       "      <th>pred</th>\n",
       "    </tr>\n",
       "  </thead>\n",
       "  <tbody>\n",
       "    <tr>\n",
       "      <th>1</th>\n",
       "      <td>LALA</td>\n",
       "      <td>Myke Towers</td>\n",
       "      <td>1.0</td>\n",
       "    </tr>\n",
       "    <tr>\n",
       "      <th>522</th>\n",
       "      <td>Surface Pressure</td>\n",
       "      <td>Jessica Darrow</td>\n",
       "      <td>1.0</td>\n",
       "    </tr>\n",
       "    <tr>\n",
       "      <th>524</th>\n",
       "      <td>THATS WHAT I WANT</td>\n",
       "      <td>Lil Nas X</td>\n",
       "      <td>1.0</td>\n",
       "    </tr>\n",
       "    <tr>\n",
       "      <th>525</th>\n",
       "      <td>One Right Now (with The Weeknd)</td>\n",
       "      <td>The Weeknd, Post Malone</td>\n",
       "      <td>1.0</td>\n",
       "    </tr>\n",
       "    <tr>\n",
       "      <th>526</th>\n",
       "      <td>Beggin</td>\n",
       "      <td>Mï¿½ï¿½ne</td>\n",
       "      <td>1.0</td>\n",
       "    </tr>\n",
       "  </tbody>\n",
       "</table>\n",
       "</div>"
      ],
      "text/plain": [
       "                          track_name           artist(s)_name  pred\n",
       "1                               LALA              Myke Towers   1.0\n",
       "522                 Surface Pressure           Jessica Darrow   1.0\n",
       "524                THATS WHAT I WANT                Lil Nas X   1.0\n",
       "525  One Right Now (with The Weeknd)  The Weeknd, Post Malone   1.0\n",
       "526                           Beggin                Mï¿½ï¿½ne   1.0"
      ]
     },
     "execution_count": 28,
     "metadata": {},
     "output_type": "execute_result"
    }
   ],
   "source": [
    "boost_predictions, boost_model = SongsBoosting(user_likes, user_dislikes)\n",
    "boost_predictions[['track_name', 'artist(s)_name', 'pred']].sort_values('pred', ascending=False).head(5)"
   ]
  },
  {
   "cell_type": "code",
   "execution_count": 29,
   "metadata": {
    "colab": {
     "base_uri": "https://localhost:8080/",
     "height": 598
    },
    "id": "iPDgkp7fJCJi",
    "outputId": "ec01f421-875a-474b-e8a8-4b355562dd14"
   },
   "outputs": [
    {
     "data": {
      "image/png": "[encoded data removed]",
      "text/plain": [
       "<Figure size 640x480 with 1 Axes>"
      ]
     },
     "metadata": {},
     "output_type": "display_data"
    }
   ],
   "source": [
    "generate_plot_weights(boost_model, True)"
   ]
  },
  {
   "cell_type": "markdown",
   "metadata": {
    "id": "VbVkNFgYj4Hw"
   },
   "source": [
    "## Overall Weights"
   ]
  },
  {
   "cell_type": "markdown",
   "metadata": {
    "id": "1l--y80vnJZL"
   },
   "source": [
    "#### Generate Plots"
   ]
  },
  {
   "cell_type": "code",
   "execution_count": 30,
   "metadata": {
    "id": "sDctGymwj86B"
   },
   "outputs": [],
   "source": [
    "def generate_overall_weight_plots(log_model, svm_model, boost_model):\n",
    "    width=0.25\n",
    "    log_weight = log_model.coef_[0]\n",
    "    svm_weight = svm_model.coef_[0]\n",
    "    boost_weight = boost_model.feature_importances_\n",
    "    weights = [log_weight, svm_weight, boost_weight]\n",
    "    labels = ['logistic', 'svm', 'boosting']\n",
    "    cols = feature_names if ALL_FEATURES else num_features\n",
    "    x_axis = np.arange(len(cols))\n",
    "    \n",
    "    for i in range(len(labels)):\n",
    "        plt.bar(x_axis + (width*i), weights[i], width=width, label=labels[i])\n",
    "    \n",
    "    plt.xlabel('Category')\n",
    "    plt.ylabel('Weight Assigned')\n",
    "    plt.title('Weight Assigned per Feature')\n",
    "    plt.xticks(x_axis, cols, rotation=90)\n",
    "    plt.legend()\n",
    "    plt.show()"
   ]
  },
  {
   "cell_type": "markdown",
   "metadata": {
    "id": "E0G6WkNWnSI0"
   },
   "source": [
    "#### Model Weights"
   ]
  },
  {
   "cell_type": "code",
   "execution_count": 31,
   "metadata": {
    "colab": {
     "base_uri": "https://localhost:8080/",
     "height": 598
    },
    "id": "Mm19G2GznXJl",
    "outputId": "27f77cc7-2738-44e1-e604-dbb46e461fe3"
   },
   "outputs": [
    {
     "data": {
      "image/png": "[encoded data removed]",
      "text/plain": [
       "<Figure size 640x480 with 1 Axes>"
      ]
     },
     "metadata": {},
     "output_type": "display_data"
    }
   ],
   "source": [
    "generate_overall_weight_plots(model, svm_model, boost_model)"
   ]
  },
  {
   "cell_type": "markdown",
   "metadata": {
    "id": "TuA7h53blChY"
   },
   "source": [
    "# Lyrics Based Recommendations"
   ]
  },
  {
   "cell_type": "code",
   "execution_count": 32,
   "metadata": {
    "id": "KVyE0la7lbp3"
   },
   "outputs": [],
   "source": [
    "from gensim.models import Word2Vec\n",
    "from sklearn.metrics.pairwise import cosine_similarity\n",
    "from transformers import DistilBertTokenizer, DistilBertModel\n",
    "import torch\n",
    "from tqdm import tqdm"
   ]
  },
  {
   "cell_type": "code",
   "execution_count": 33,
   "metadata": {
    "id": "PYLjGsWOlgnn"
   },
   "outputs": [],
   "source": [
    "from sklearn.feature_extraction.text import TfidfVectorizer\n",
    "from sklearn.metrics.pairwise import linear_kernel\n",
    "import nltk\n",
    "from nltk.corpus import stopwords"
   ]
  },
  {
   "cell_type": "code",
   "execution_count": 36,
   "metadata": {
    "colab": {
     "base_uri": "https://localhost:8080/",
     "height": 206
    },
    "id": "ZJDJrqfRlKAl",
    "outputId": "e582ecde-1939-49b9-91fb-5d029c9382c0"
   },
   "outputs": [
    {
     "data": {
      "text/html": [
       "<div>\n",
       "<style scoped>\n",
       "    .dataframe tbody tr th:only-of-type {\n",
       "        vertical-align: middle;\n",
       "    }\n",
       "\n",
       "    .dataframe tbody tr th {\n",
       "        vertical-align: top;\n",
       "    }\n",
       "\n",
       "    .dataframe thead th {\n",
       "        text-align: right;\n",
       "    }\n",
       "</style>\n",
       "<table border=\"1\" class=\"dataframe\">\n",
       "  <thead>\n",
       "    <tr style=\"text-align: right;\">\n",
       "      <th></th>\n",
       "      <th>track_name</th>\n",
       "      <th>artist(s)_name</th>\n",
       "      <th>Lyrics</th>\n",
       "    </tr>\n",
       "  </thead>\n",
       "  <tbody>\n",
       "    <tr>\n",
       "      <th>0</th>\n",
       "      <td>Seven (feat. Latto) (Explicit Ver.)</td>\n",
       "      <td>Latto, Jung Kook</td>\n",
       "      <td>Weight of the world on your shoulders\\nI kiss ...</td>\n",
       "    </tr>\n",
       "    <tr>\n",
       "      <th>1</th>\n",
       "      <td>LALA</td>\n",
       "      <td>Myke Towers</td>\n",
       "      <td>Todo está bien, no te tiene' que estresar\\nA t...</td>\n",
       "    </tr>\n",
       "    <tr>\n",
       "      <th>2</th>\n",
       "      <td>vampire</td>\n",
       "      <td>Olivia Rodrigo</td>\n",
       "      <td>Hate to give the satisfaction asking how you'r...</td>\n",
       "    </tr>\n",
       "    <tr>\n",
       "      <th>3</th>\n",
       "      <td>Cruel Summer</td>\n",
       "      <td>Taylor Swift</td>\n",
       "      <td>(Yeah, yeah, yeah, yeah)\\n\\nFever dream high i...</td>\n",
       "    </tr>\n",
       "    <tr>\n",
       "      <th>4</th>\n",
       "      <td>WHERE SHE GOES</td>\n",
       "      <td>Bad Bunny</td>\n",
       "      <td>Baby, dime la verdad\\nSi te olvidaste de mí\\nY...</td>\n",
       "    </tr>\n",
       "  </tbody>\n",
       "</table>\n",
       "</div>"
      ],
      "text/plain": [
       "                            track_name    artist(s)_name  \\\n",
       "0  Seven (feat. Latto) (Explicit Ver.)  Latto, Jung Kook   \n",
       "1                                 LALA       Myke Towers   \n",
       "2                              vampire    Olivia Rodrigo   \n",
       "3                         Cruel Summer      Taylor Swift   \n",
       "4                       WHERE SHE GOES         Bad Bunny   \n",
       "\n",
       "                                              Lyrics  \n",
       "0  Weight of the world on your shoulders\\nI kiss ...  \n",
       "1  Todo está bien, no te tiene' que estresar\\nA t...  \n",
       "2  Hate to give the satisfaction asking how you'r...  \n",
       "3  (Yeah, yeah, yeah, yeah)\\n\\nFever dream high i...  \n",
       "4  Baby, dime la verdad\\nSi te olvidaste de mí\\nY...  "
      ]
     },
     "execution_count": 36,
     "metadata": {},
     "output_type": "execute_result"
    }
   ],
   "source": [
    "# ENTER FILEPATH FOR DATAFRAME WITH SCRAPED LYRICS\n",
    "df = pd.read_csv('https://raw.githubusercontent.com/apma4903/APMA4903-2023-11-27/main/spotify_with_lyrics.csv', encoding='UTF-8')\n",
    "df.loc[df['Lyrics'].notnull(), ['track_name', 'artist(s)_name', 'Lyrics']].head()"
   ]
  },
  {
   "cell_type": "code",
   "execution_count": 37,
   "metadata": {
    "id": "vy3yTQP9l8ko"
   },
   "outputs": [],
   "source": [
    "lyrics_corpus = df['Lyrics'].fillna('')"
   ]
  },
  {
   "cell_type": "markdown",
   "metadata": {
    "id": "dE_fUk1cm37I"
   },
   "source": [
    "## TF - IDF"
   ]
  },
  {
   "cell_type": "code",
   "execution_count": 38,
   "metadata": {
    "colab": {
     "base_uri": "https://localhost:8080/"
    },
    "id": "sFr2aIOTnHQ4",
    "outputId": "57551b84-9d7e-4428-caa3-63536a23ca59"
   },
   "outputs": [
    {
     "name": "stderr",
     "output_type": "stream",
     "text": [
      "[nltk_data] Downloading package stopwords to\n",
      "[nltk_data]     C:\\Users\\anany\\AppData\\Roaming\\nltk_data...\n",
      "[nltk_data]   Package stopwords is already up-to-date!\n",
      "[nltk_data] Error loading stopwords_es: Package 'stopwords_es' not\n",
      "[nltk_data]     found in index\n"
     ]
    }
   ],
   "source": [
    "# Download the stopwords for English and Spanish\n",
    "nltk.download('stopwords')\n",
    "nltk.download('stopwords_es')\n",
    "\n",
    "stopword_en = stopwords.words('english')\n",
    "stopword_es = stopwords.words('spanish')\n",
    "stopwords_all = stopword_en + stopword_es"
   ]
  },
  {
   "cell_type": "code",
   "execution_count": 39,
   "metadata": {
    "id": "bPiPXDopm6cT"
   },
   "outputs": [],
   "source": [
    "vectorizer = TfidfVectorizer(stop_words = stopwords_all)\n",
    "tfidf_song_vectors = np.array(vectorizer.fit_transform(lyrics_corpus).todense())"
   ]
  },
  {
   "cell_type": "markdown",
   "metadata": {
    "id": "K3S58ipOlrKS"
   },
   "source": [
    "## Word2Vec"
   ]
  },
  {
   "cell_type": "code",
   "execution_count": 40,
   "metadata": {
    "id": "6mQEc-RqmOXA"
   },
   "outputs": [],
   "source": [
    "def get_sequence_vector(words, model, vector_size=100):\n",
    "    vectors = [model.wv[word] for word in words if word in model.wv]\n",
    "    \n",
    "    if vectors:\n",
    "        return np.mean(vectors, axis=0)\n",
    "    else:\n",
    "        return np.zeros(vector_size)"
   ]
  },
  {
   "cell_type": "code",
   "execution_count": 41,
   "metadata": {
    "id": "YhLQxQLolqg8"
   },
   "outputs": [],
   "source": [
    "w2v_corpus = lyrics_corpus.apply(lambda x : x.split())\n",
    "word2vec_model = Word2Vec(sentences=w2v_corpus,\n",
    "                          vector_size=100, window=5,\n",
    "                          min_count=1, workers=4)\n",
    "w2v_song_vectors = w2v_corpus.apply(lambda x : get_sequence_vector(x, word2vec_model, vector_size=100))\n",
    "w2v_song_vectors = np.array(w2v_song_vectors.values.tolist())"
   ]
  },
  {
   "cell_type": "markdown",
   "metadata": {
    "id": "yJEE3EyDoL49"
   },
   "source": [
    "## BERT"
   ]
  },
  {
   "cell_type": "code",
   "execution_count": null,
   "metadata": {
    "colab": {
     "base_uri": "https://localhost:8080/",
     "height": 177,
     "referenced_widgets": [
      "bc357d18b59f4873a5da1c2bc76b1f8b",
      "db50b0db56cd43869a2fbe54c4cfbd2d",
      "5779a69cc54b404898e82dcb7b7a0e8d",
      "7ae029c6c30e4e9dad878d953c792974",
      "d5518f3ad76c4163b6c06299c80741b1",
      "2e3af817c3c1437184a53e8702671649",
      "3f0bbaaf62d2485c80bbbc7088b41ace",
      "f9c22c30d4e54f5cb2c0b4d7aa96a151",
      "8a4443c4246a4da4b680f90d6023ed24",
      "be4b8a71dc3847d59c09501456aa1400",
      "64dfbb57b62745a781a2a5ceff62269f",
      "476d62f2c56c4a55a4d192f70ae3f437",
      "c88ddf2867e14a1f80745d12e67eceec",
      "09d40408ac1d4ac59e908927ae989296",
      "b50856e9adc846d7bde9eef158d57e9c",
      "7f75d5cdd682400abcf0b67a92dc5ce4",
      "3d5b40df285b4d7f8642f2eb8b71733e",
      "9c1e8849bf33409bad4f7af02f31f799",
      "766dfe8416ff490889b441436edd6944",
      "2da272751595409496f2cd28b184721c",
      "885076af240744a18dd60009e240f1f2",
      "2cada529051d49d89ed7c257e0b2bbd4",
      "1995a60c21d642cca2ad762e6f0d3698",
      "286417090719439d96664bc98efb8184",
      "fd7caddf999c4bb0a9369f84ba648409",
      "efcd179df8c94859b32dede664b4abc6",
      "832707f9374c488b910b626e27f359dd",
      "76af13261c624c9cb83c87d19ebb3aad",
      "42dad9a0ec9f4cc98aa2ef58993aa391",
      "606612d4edff43d8951489ee50ac1a26",
      "fa1706f5300e42b29f14100e5b858e06",
      "54811c72b4ab466391de6c88aa387757",
      "2384b9cfb80f44809dc6dbfaa581d149",
      "ecf1768b25cf41bab9601dd57e89046e",
      "735714618b4143dc8dcf6a3c601e93ba",
      "d3908ac1750347cc936c9509d5362c1b",
      "d543ac89a1a74c4f8dc69b8c99dcc935",
      "8ebf34fdd0c14088b6f8a274c4a590a7",
      "b3fbc8007e3444eca24b785a809c9a74",
      "9214ab28e2474a7798a5610ef7ba5484",
      "4bcb37427df44f3db2ea452e1e4f49ed",
      "9b104f2cb45b47809f474b2cbdd4fe79",
      "2e591336afbf404d94f786c257d7a58c",
      "25fdae54709343f689abb49d19ed9584",
      "a31338498ba347fa92a456bc29edb27c",
      "fa1882129fc54b618ac72845bee6081a",
      "caea65b3733e46b7bb22d867eae98fc5",
      "8a0aa8428d4141ff8cc8eb0dad4f8471",
      "bd7d37b84e1443c3ba327685256a8358",
      "92ef965a5dc84d1fad03fe90e929f423",
      "ec12ddf4fe1d49589e9d2e86281f9a25",
      "6c235bc3573e4e08af761bcfd196a8db",
      "eff6a279728f4da6998e2177b85577d9",
      "f3c10475352f48568fa526d863bb7c62",
      "a3193bfc2d2f4cb686e3529c1ed5e585"
     ]
    },
    "id": "HMfm4DNKoPB1",
    "outputId": "4301d48a-0b33-4bf6-a219-f582570b6a67"
   },
   "outputs": [],
   "source": [
    "bert_tokenizer = DistilBertTokenizer.from_pretrained('distilbert-base-uncased')\n",
    "bert_model = DistilBertModel.from_pretrained('distilbert-base-uncased')\n",
    "\n",
    "# Tokenize and encode the lyrics\n",
    "bert_lyrics_corpus = lyrics_corpus.tolist()\n",
    "lyrics_tokens = bert_tokenizer(bert_lyrics_corpus, padding=True, truncation=True, return_tensors='pt')"
   ]
  },
  {
   "cell_type": "markdown",
   "metadata": {},
   "source": [
    "### Takes 16 minutes to run with DistilBert"
   ]
  },
  {
   "cell_type": "code",
   "execution_count": null,
   "metadata": {
    "id": "WG5Q4P5UpJd_"
   },
   "outputs": [],
   "source": [
    "# Get the number of batches (assuming batch_size=1 for simplicity)\n",
    "num_batches = len(lyrics_tokens['input_ids'])\n",
    "\n",
    "# Create a tqdm progress bar\n",
    "progress_bar = tqdm(total=num_batches, desc=\"Processing BERT\")\n",
    "\n",
    "# Process each batch\n",
    "with torch.no_grad():\n",
    "    bert_song_vectors = []\n",
    "    for batch_start in range(0, num_batches):\n",
    "        batch = {key: value[batch_start] for key, value in lyrics_tokens.items()}\n",
    "        outputs = bert_model(**batch)\n",
    "        bert_song_vectors.append(outputs['last_hidden_state'].mean(dim=1).numpy()[0])\n",
    "\n",
    "        # Update the progress bar\n",
    "        progress_bar.update(1)\n",
    "\n",
    "# Close the progress bar\n",
    "progress_bar.close()"
   ]
  },
  {
   "cell_type": "markdown",
   "metadata": {
    "id": "R5ax27xFppE0"
   },
   "source": [
    "## Lyrics Based Recommendation Generator"
   ]
  },
  {
   "cell_type": "code",
   "execution_count": 42,
   "metadata": {
    "id": "E-jBFYRvpoaI"
   },
   "outputs": [],
   "source": [
    "def LyricsBasedSongRecommendations(likes, dislikes, df, model_type = 'word2vec'):\n",
    "    \n",
    "    liked_titles, liked_artists = list(likes[\"track_name\"].values), list(likes[\"artist(s)_name\"].values)\n",
    "    disliked_titles, disliked_artists = list(dislikes[\"track_name\"].values), list(dislikes[\"artist(s)_name\"].values)\n",
    "    \n",
    "    liked_indices = df[(df['track_name'].isin(liked_titles)) & (df['artist(s)_name'].isin(liked_artists))]\n",
    "    disliked_indices = df[(df['track_name'].isin(disliked_titles)) & (df['artist(s)_name'].isin(disliked_artists))]\n",
    "\n",
    "    lyrics_corpus = df['Lyrics'].fillna('')\n",
    "\n",
    "    if model_type == 'word2vec':\n",
    "        song_vectors = w2v_song_vectors\n",
    "\n",
    "    elif model_type == 'bert':\n",
    "        song_vectors = bert_song_vectors\n",
    "\n",
    "    elif model_type == 'tfidf':\n",
    "        song_vectors = tfidf_song_vectors\n",
    "\n",
    "    else:\n",
    "        raise ValueError(\"Unsupported model_type. Supported types are 'tfidf', 'word2vec' and 'bert'.\")\n",
    "\n",
    "    cosine_similarities = cosine_similarity(song_vectors, song_vectors)\n",
    "\n",
    "    liked_scores = cosine_similarities[:, liked_indices.index].sum(axis = 1)\n",
    "    disliked_scores = cosine_similarities[:, disliked_indices.index].sum(axis = 1)\n",
    "    combined = liked_scores - disliked_scores\n",
    "\n",
    "    df['score'] = combined\n",
    "\n",
    "    return df"
   ]
  },
  {
   "cell_type": "code",
   "execution_count": 43,
   "metadata": {
    "id": "JaxbPvupqmsG"
   },
   "outputs": [
    {
     "data": {
      "text/html": [
       "<div>\n",
       "<style scoped>\n",
       "    .dataframe tbody tr th:only-of-type {\n",
       "        vertical-align: middle;\n",
       "    }\n",
       "\n",
       "    .dataframe tbody tr th {\n",
       "        vertical-align: top;\n",
       "    }\n",
       "\n",
       "    .dataframe thead th {\n",
       "        text-align: right;\n",
       "    }\n",
       "</style>\n",
       "<table border=\"1\" class=\"dataframe\">\n",
       "  <thead>\n",
       "    <tr style=\"text-align: right;\">\n",
       "      <th></th>\n",
       "      <th>track_name</th>\n",
       "      <th>artist(s)_name</th>\n",
       "      <th>Lyrics</th>\n",
       "      <th>score</th>\n",
       "    </tr>\n",
       "  </thead>\n",
       "  <tbody>\n",
       "    <tr>\n",
       "      <th>17</th>\n",
       "      <td>What Was I Made For? [From The Motion Picture ...</td>\n",
       "      <td>Billie Eilish</td>\n",
       "      <td>I used to float, now I just fall down\\nI used ...</td>\n",
       "      <td>1.026153</td>\n",
       "    </tr>\n",
       "    <tr>\n",
       "      <th>81</th>\n",
       "      <td>Until I Found You (with Em Beihold) - Em Beiho...</td>\n",
       "      <td>Em Beihold, Stephen Sanchez</td>\n",
       "      <td>Georgia, wrap me up in all your\\nI want you\\nI...</td>\n",
       "      <td>1.026018</td>\n",
       "    </tr>\n",
       "    <tr>\n",
       "      <th>158</th>\n",
       "      <td>Ghost</td>\n",
       "      <td>Justin Bieber</td>\n",
       "      <td>Youngblood thinks there's always tomorrow\\nI m...</td>\n",
       "      <td>1.025832</td>\n",
       "    </tr>\n",
       "    <tr>\n",
       "      <th>400</th>\n",
       "      <td>I'm Not The Only One</td>\n",
       "      <td>Sam Smith</td>\n",
       "      <td>You and me, we made a vow\\nFor better or for w...</td>\n",
       "      <td>1.025446</td>\n",
       "    </tr>\n",
       "    <tr>\n",
       "      <th>350</th>\n",
       "      <td>Nobody Gets Me</td>\n",
       "      <td>SZA</td>\n",
       "      <td>Took a long vacation, no makeup, just Jay Z\\nY...</td>\n",
       "      <td>1.025237</td>\n",
       "    </tr>\n",
       "    <tr>\n",
       "      <th>...</th>\n",
       "      <td>...</td>\n",
       "      <td>...</td>\n",
       "      <td>...</td>\n",
       "      <td>...</td>\n",
       "    </tr>\n",
       "    <tr>\n",
       "      <th>50</th>\n",
       "      <td>El Cielo</td>\n",
       "      <td>Feid, Myke Towers, Sky Rompiendo</td>\n",
       "      <td>Yo la llevo al cielo\\nElla se suelta el pelo\\n...</td>\n",
       "      <td>0.246768</td>\n",
       "    </tr>\n",
       "    <tr>\n",
       "      <th>306</th>\n",
       "      <td>La Bebe</td>\n",
       "      <td>Yng Lvcas</td>\n",
       "      <td>Hoy es noche de estar soltera\\nLe gusta el per...</td>\n",
       "      <td>0.246174</td>\n",
       "    </tr>\n",
       "    <tr>\n",
       "      <th>190</th>\n",
       "      <td>Bebe Dame</td>\n",
       "      <td>Fuerza Regida, Grupo Frontera</td>\n",
       "      <td>Tengo tiempo pensando en los dos\\nSi podemos a...</td>\n",
       "      <td>0.242266</td>\n",
       "    </tr>\n",
       "    <tr>\n",
       "      <th>222</th>\n",
       "      <td>Ch y la Pizza</td>\n",
       "      <td>Fuerza Regida, Natanael Cano</td>\n",
       "      <td>No es cuestión de culto\\nPero por todos los co...</td>\n",
       "      <td>0.241681</td>\n",
       "    </tr>\n",
       "    <tr>\n",
       "      <th>120</th>\n",
       "      <td>LUNA</td>\n",
       "      <td>Junior H, Peso Pluma</td>\n",
       "      <td>Luna, dile tú\\nQue tú eres la única que la pue...</td>\n",
       "      <td>0.241282</td>\n",
       "    </tr>\n",
       "  </tbody>\n",
       "</table>\n",
       "<p>538 rows × 4 columns</p>\n",
       "</div>"
      ],
      "text/plain": [
       "                                            track_name  \\\n",
       "17   What Was I Made For? [From The Motion Picture ...   \n",
       "81   Until I Found You (with Em Beihold) - Em Beiho...   \n",
       "158                                              Ghost   \n",
       "400                               I'm Not The Only One   \n",
       "350                                     Nobody Gets Me   \n",
       "..                                                 ...   \n",
       "50                                            El Cielo   \n",
       "306                                            La Bebe   \n",
       "190                                          Bebe Dame   \n",
       "222                                      Ch y la Pizza   \n",
       "120                                               LUNA   \n",
       "\n",
       "                       artist(s)_name  \\\n",
       "17                      Billie Eilish   \n",
       "81        Em Beihold, Stephen Sanchez   \n",
       "158                     Justin Bieber   \n",
       "400                         Sam Smith   \n",
       "350                               SZA   \n",
       "..                                ...   \n",
       "50   Feid, Myke Towers, Sky Rompiendo   \n",
       "306                         Yng Lvcas   \n",
       "190     Fuerza Regida, Grupo Frontera   \n",
       "222      Fuerza Regida, Natanael Cano   \n",
       "120              Junior H, Peso Pluma   \n",
       "\n",
       "                                                Lyrics     score  \n",
       "17   I used to float, now I just fall down\\nI used ...  1.026153  \n",
       "81   Georgia, wrap me up in all your\\nI want you\\nI...  1.026018  \n",
       "158  Youngblood thinks there's always tomorrow\\nI m...  1.025832  \n",
       "400  You and me, we made a vow\\nFor better or for w...  1.025446  \n",
       "350  Took a long vacation, no makeup, just Jay Z\\nY...  1.025237  \n",
       "..                                                 ...       ...  \n",
       "50   Yo la llevo al cielo\\nElla se suelta el pelo\\n...  0.246768  \n",
       "306  Hoy es noche de estar soltera\\nLe gusta el per...  0.246174  \n",
       "190  Tengo tiempo pensando en los dos\\nSi podemos a...  0.242266  \n",
       "222  No es cuestión de culto\\nPero por todos los co...  0.241681  \n",
       "120  Luna, dile tú\\nQue tú eres la única que la pue...  0.241282  \n",
       "\n",
       "[538 rows x 4 columns]"
      ]
     },
     "execution_count": 43,
     "metadata": {},
     "output_type": "execute_result"
    }
   ],
   "source": [
    "# Can change model type to \"bert\" or \"tfidf\"\n",
    "userdf = LyricsBasedSongRecommendations(user_likes, user_dislikes, df, model_type = \"word2vec\")\n",
    "userdf[['track_name', 'artist(s)_name', 'Lyrics', 'score']].sort_values(by='score', ascending=False)[['track_name', 'artist(s)_name', 'score']]\n",
    "userdf.loc[(~userdf['track_name'].isin(user_likes)) & (userdf['Lyrics'].notnull()), ['track_name', 'artist(s)_name', 'Lyrics', 'score']].sort_values(by='score', ascending=False)"
   ]
  }
 ],
 "metadata": {
  "colab": {
   "provenance": []
  },
  "kernelspec": {
   "display_name": "Python 3 (ipykernel)",
   "language": "python",
   "name": "python3"
  },
  "language_info": {
   "codemirror_mode": {
    "name": "ipython",
    "version": 3
   },
   "file_extension": ".py",
   "mimetype": "text/x-python",
   "name": "python",
   "nbconvert_exporter": "python",
   "pygments_lexer": "ipython3",
   "version": "3.10.6"
  },
  "widgets": {
   "application/vnd.jupyter.widget-state+json": {
    "09d40408ac1d4ac59e908927ae989296": {
     "model_module": "@jupyter-widgets/controls",
     "model_module_version": "1.5.0",
     "model_name": "FloatProgressModel",
     "state": {
      "_dom_classes": [],
      "_model_module": "@jupyter-widgets/controls",
      "_model_module_version": "1.5.0",
      "_model_name": "FloatProgressModel",
      "_view_count": null,
      "_view_module": "@jupyter-widgets/controls",
      "_view_module_version": "1.5.0",
      "_view_name": "ProgressView",
      "bar_style": "success",
      "description": "",
      "description_tooltip": null,
      "layout": "IPY_MODEL_766dfe8416ff490889b441436edd6944",
      "max": 231508,
      "min": 0,
      "orientation": "horizontal",
      "style": "IPY_MODEL_2da272751595409496f2cd28b184721c",
      "value": 231508
     }
    },
    "1995a60c21d642cca2ad762e6f0d3698": {
     "model_module": "@jupyter-widgets/controls",
     "model_module_version": "1.5.0",
     "model_name": "HBoxModel",
     "state": {
      "_dom_classes": [],
      "_model_module": "@jupyter-widgets/controls",
      "_model_module_version": "1.5.0",
      "_model_name": "HBoxModel",
      "_view_count": null,
      "_view_module": "@jupyter-widgets/controls",
      "_view_module_version": "1.5.0",
      "_view_name": "HBoxView",
      "box_style": "",
      "children": [
       "IPY_MODEL_286417090719439d96664bc98efb8184",
       "IPY_MODEL_fd7caddf999c4bb0a9369f84ba648409",
       "IPY_MODEL_efcd179df8c94859b32dede664b4abc6"
      ],
      "layout": "IPY_MODEL_832707f9374c488b910b626e27f359dd"
     }
    },
    "2384b9cfb80f44809dc6dbfaa581d149": {
     "model_module": "@jupyter-widgets/controls",
     "model_module_version": "1.5.0",
     "model_name": "DescriptionStyleModel",
     "state": {
      "_model_module": "@jupyter-widgets/controls",
      "_model_module_version": "1.5.0",
      "_model_name": "DescriptionStyleModel",
      "_view_count": null,
      "_view_module": "@jupyter-widgets/base",
      "_view_module_version": "1.2.0",
      "_view_name": "StyleView",
      "description_width": ""
     }
    },
    "25fdae54709343f689abb49d19ed9584": {
     "model_module": "@jupyter-widgets/controls",
     "model_module_version": "1.5.0",
     "model_name": "DescriptionStyleModel",
     "state": {
      "_model_module": "@jupyter-widgets/controls",
      "_model_module_version": "1.5.0",
      "_model_name": "DescriptionStyleModel",
      "_view_count": null,
      "_view_module": "@jupyter-widgets/base",
      "_view_module_version": "1.2.0",
      "_view_name": "StyleView",
      "description_width": ""
     }
    },
    "286417090719439d96664bc98efb8184": {
     "model_module": "@jupyter-widgets/controls",
     "model_module_version": "1.5.0",
     "model_name": "HTMLModel",
     "state": {
      "_dom_classes": [],
      "_model_module": "@jupyter-widgets/controls",
      "_model_module_version": "1.5.0",
      "_model_name": "HTMLModel",
      "_view_count": null,
      "_view_module": "@jupyter-widgets/controls",
      "_view_module_version": "1.5.0",
      "_view_name": "HTMLView",
      "description": "",
      "description_tooltip": null,
      "layout": "IPY_MODEL_76af13261c624c9cb83c87d19ebb3aad",
      "placeholder": "​",
      "style": "IPY_MODEL_42dad9a0ec9f4cc98aa2ef58993aa391",
      "value": "tokenizer.json: 100%"
     }
    },
    "2cada529051d49d89ed7c257e0b2bbd4": {
     "model_module": "@jupyter-widgets/controls",
     "model_module_version": "1.5.0",
     "model_name": "DescriptionStyleModel",
     "state": {
      "_model_module": "@jupyter-widgets/controls",
      "_model_module_version": "1.5.0",
      "_model_name": "DescriptionStyleModel",
      "_view_count": null,
      "_view_module": "@jupyter-widgets/base",
      "_view_module_version": "1.2.0",
      "_view_name": "StyleView",
      "description_width": ""
     }
    },
    "2da272751595409496f2cd28b184721c": {
     "model_module": "@jupyter-widgets/controls",
     "model_module_version": "1.5.0",
     "model_name": "ProgressStyleModel",
     "state": {
      "_model_module": "@jupyter-widgets/controls",
      "_model_module_version": "1.5.0",
      "_model_name": "ProgressStyleModel",
      "_view_count": null,
      "_view_module": "@jupyter-widgets/base",
      "_view_module_version": "1.2.0",
      "_view_name": "StyleView",
      "bar_color": null,
      "description_width": ""
     }
    },
    "2e3af817c3c1437184a53e8702671649": {
     "model_module": "@jupyter-widgets/base",
     "model_module_version": "1.2.0",
     "model_name": "LayoutModel",
     "state": {
      "_model_module": "@jupyter-widgets/base",
      "_model_module_version": "1.2.0",
      "_model_name": "LayoutModel",
      "_view_count": null,
      "_view_module": "@jupyter-widgets/base",
      "_view_module_version": "1.2.0",
      "_view_name": "LayoutView",
      "align_content": null,
      "align_items": null,
      "align_self": null,
      "border": null,
      "bottom": null,
      "display": null,
      "flex": null,
      "flex_flow": null,
      "grid_area": null,
      "grid_auto_columns": null,
      "grid_auto_flow": null,
      "grid_auto_rows": null,
      "grid_column": null,
      "grid_gap": null,
      "grid_row": null,
      "grid_template_areas": null,
      "grid_template_columns": null,
      "grid_template_rows": null,
      "height": null,
      "justify_content": null,
      "justify_items": null,
      "left": null,
      "margin": null,
      "max_height": null,
      "max_width": null,
      "min_height": null,
      "min_width": null,
      "object_fit": null,
      "object_position": null,
      "order": null,
      "overflow": null,
      "overflow_x": null,
      "overflow_y": null,
      "padding": null,
      "right": null,
      "top": null,
      "visibility": null,
      "width": null
     }
    },
    "2e591336afbf404d94f786c257d7a58c": {
     "model_module": "@jupyter-widgets/base",
     "model_module_version": "1.2.0",
     "model_name": "LayoutModel",
     "state": {
      "_model_module": "@jupyter-widgets/base",
      "_model_module_version": "1.2.0",
      "_model_name": "LayoutModel",
      "_view_count": null,
      "_view_module": "@jupyter-widgets/base",
      "_view_module_version": "1.2.0",
      "_view_name": "LayoutView",
      "align_content": null,
      "align_items": null,
      "align_self": null,
      "border": null,
      "bottom": null,
      "display": null,
      "flex": null,
      "flex_flow": null,
      "grid_area": null,
      "grid_auto_columns": null,
      "grid_auto_flow": null,
      "grid_auto_rows": null,
      "grid_column": null,
      "grid_gap": null,
      "grid_row": null,
      "grid_template_areas": null,
      "grid_template_columns": null,
      "grid_template_rows": null,
      "height": null,
      "justify_content": null,
      "justify_items": null,
      "left": null,
      "margin": null,
      "max_height": null,
      "max_width": null,
      "min_height": null,
      "min_width": null,
      "object_fit": null,
      "object_position": null,
      "order": null,
      "overflow": null,
      "overflow_x": null,
      "overflow_y": null,
      "padding": null,
      "right": null,
      "top": null,
      "visibility": null,
      "width": null
     }
    },
    "3d5b40df285b4d7f8642f2eb8b71733e": {
     "model_module": "@jupyter-widgets/base",
     "model_module_version": "1.2.0",
     "model_name": "LayoutModel",
     "state": {
      "_model_module": "@jupyter-widgets/base",
      "_model_module_version": "1.2.0",
      "_model_name": "LayoutModel",
      "_view_count": null,
      "_view_module": "@jupyter-widgets/base",
      "_view_module_version": "1.2.0",
      "_view_name": "LayoutView",
      "align_content": null,
      "align_items": null,
      "align_self": null,
      "border": null,
      "bottom": null,
      "display": null,
      "flex": null,
      "flex_flow": null,
      "grid_area": null,
      "grid_auto_columns": null,
      "grid_auto_flow": null,
      "grid_auto_rows": null,
      "grid_column": null,
      "grid_gap": null,
      "grid_row": null,
      "grid_template_areas": null,
      "grid_template_columns": null,
      "grid_template_rows": null,
      "height": null,
      "justify_content": null,
      "justify_items": null,
      "left": null,
      "margin": null,
      "max_height": null,
      "max_width": null,
      "min_height": null,
      "min_width": null,
      "object_fit": null,
      "object_position": null,
      "order": null,
      "overflow": null,
      "overflow_x": null,
      "overflow_y": null,
      "padding": null,
      "right": null,
      "top": null,
      "visibility": null,
      "width": null
     }
    },
    "3f0bbaaf62d2485c80bbbc7088b41ace": {
     "model_module": "@jupyter-widgets/controls",
     "model_module_version": "1.5.0",
     "model_name": "DescriptionStyleModel",
     "state": {
      "_model_module": "@jupyter-widgets/controls",
      "_model_module_version": "1.5.0",
      "_model_name": "DescriptionStyleModel",
      "_view_count": null,
      "_view_module": "@jupyter-widgets/base",
      "_view_module_version": "1.2.0",
      "_view_name": "StyleView",
      "description_width": ""
     }
    },
    "42dad9a0ec9f4cc98aa2ef58993aa391": {
     "model_module": "@jupyter-widgets/controls",
     "model_module_version": "1.5.0",
     "model_name": "DescriptionStyleModel",
     "state": {
      "_model_module": "@jupyter-widgets/controls",
      "_model_module_version": "1.5.0",
      "_model_name": "DescriptionStyleModel",
      "_view_count": null,
      "_view_module": "@jupyter-widgets/base",
      "_view_module_version": "1.2.0",
      "_view_name": "StyleView",
      "description_width": ""
     }
    },
    "476d62f2c56c4a55a4d192f70ae3f437": {
     "model_module": "@jupyter-widgets/controls",
     "model_module_version": "1.5.0",
     "model_name": "HBoxModel",
     "state": {
      "_dom_classes": [],
      "_model_module": "@jupyter-widgets/controls",
      "_model_module_version": "1.5.0",
      "_model_name": "HBoxModel",
      "_view_count": null,
      "_view_module": "@jupyter-widgets/controls",
      "_view_module_version": "1.5.0",
      "_view_name": "HBoxView",
      "box_style": "",
      "children": [
       "IPY_MODEL_c88ddf2867e14a1f80745d12e67eceec",
       "IPY_MODEL_09d40408ac1d4ac59e908927ae989296",
       "IPY_MODEL_b50856e9adc846d7bde9eef158d57e9c"
      ],
      "layout": "IPY_MODEL_7f75d5cdd682400abcf0b67a92dc5ce4"
     }
    },
    "4bcb37427df44f3db2ea452e1e4f49ed": {
     "model_module": "@jupyter-widgets/base",
     "model_module_version": "1.2.0",
     "model_name": "LayoutModel",
     "state": {
      "_model_module": "@jupyter-widgets/base",
      "_model_module_version": "1.2.0",
      "_model_name": "LayoutModel",
      "_view_count": null,
      "_view_module": "@jupyter-widgets/base",
      "_view_module_version": "1.2.0",
      "_view_name": "LayoutView",
      "align_content": null,
      "align_items": null,
      "align_self": null,
      "border": null,
      "bottom": null,
      "display": null,
      "flex": null,
      "flex_flow": null,
      "grid_area": null,
      "grid_auto_columns": null,
      "grid_auto_flow": null,
      "grid_auto_rows": null,
      "grid_column": null,
      "grid_gap": null,
      "grid_row": null,
      "grid_template_areas": null,
      "grid_template_columns": null,
      "grid_template_rows": null,
      "height": null,
      "justify_content": null,
      "justify_items": null,
      "left": null,
      "margin": null,
      "max_height": null,
      "max_width": null,
      "min_height": null,
      "min_width": null,
      "object_fit": null,
      "object_position": null,
      "order": null,
      "overflow": null,
      "overflow_x": null,
      "overflow_y": null,
      "padding": null,
      "right": null,
      "top": null,
      "visibility": null,
      "width": null
     }
    },
    "54811c72b4ab466391de6c88aa387757": {
     "model_module": "@jupyter-widgets/base",
     "model_module_version": "1.2.0",
     "model_name": "LayoutModel",
     "state": {
      "_model_module": "@jupyter-widgets/base",
      "_model_module_version": "1.2.0",
      "_model_name": "LayoutModel",
      "_view_count": null,
      "_view_module": "@jupyter-widgets/base",
      "_view_module_version": "1.2.0",
      "_view_name": "LayoutView",
      "align_content": null,
      "align_items": null,
      "align_self": null,
      "border": null,
      "bottom": null,
      "display": null,
      "flex": null,
      "flex_flow": null,
      "grid_area": null,
      "grid_auto_columns": null,
      "grid_auto_flow": null,
      "grid_auto_rows": null,
      "grid_column": null,
      "grid_gap": null,
      "grid_row": null,
      "grid_template_areas": null,
      "grid_template_columns": null,
      "grid_template_rows": null,
      "height": null,
      "justify_content": null,
      "justify_items": null,
      "left": null,
      "margin": null,
      "max_height": null,
      "max_width": null,
      "min_height": null,
      "min_width": null,
      "object_fit": null,
      "object_position": null,
      "order": null,
      "overflow": null,
      "overflow_x": null,
      "overflow_y": null,
      "padding": null,
      "right": null,
      "top": null,
      "visibility": null,
      "width": null
     }
    },
    "5779a69cc54b404898e82dcb7b7a0e8d": {
     "model_module": "@jupyter-widgets/controls",
     "model_module_version": "1.5.0",
     "model_name": "FloatProgressModel",
     "state": {
      "_dom_classes": [],
      "_model_module": "@jupyter-widgets/controls",
      "_model_module_version": "1.5.0",
      "_model_name": "FloatProgressModel",
      "_view_count": null,
      "_view_module": "@jupyter-widgets/controls",
      "_view_module_version": "1.5.0",
      "_view_name": "ProgressView",
      "bar_style": "success",
      "description": "",
      "description_tooltip": null,
      "layout": "IPY_MODEL_f9c22c30d4e54f5cb2c0b4d7aa96a151",
      "max": 28,
      "min": 0,
      "orientation": "horizontal",
      "style": "IPY_MODEL_8a4443c4246a4da4b680f90d6023ed24",
      "value": 28
     }
    },
    "606612d4edff43d8951489ee50ac1a26": {
     "model_module": "@jupyter-widgets/base",
     "model_module_version": "1.2.0",
     "model_name": "LayoutModel",
     "state": {
      "_model_module": "@jupyter-widgets/base",
      "_model_module_version": "1.2.0",
      "_model_name": "LayoutModel",
      "_view_count": null,
      "_view_module": "@jupyter-widgets/base",
      "_view_module_version": "1.2.0",
      "_view_name": "LayoutView",
      "align_content": null,
      "align_items": null,
      "align_self": null,
      "border": null,
      "bottom": null,
      "display": null,
      "flex": null,
      "flex_flow": null,
      "grid_area": null,
      "grid_auto_columns": null,
      "grid_auto_flow": null,
      "grid_auto_rows": null,
      "grid_column": null,
      "grid_gap": null,
      "grid_row": null,
      "grid_template_areas": null,
      "grid_template_columns": null,
      "grid_template_rows": null,
      "height": null,
      "justify_content": null,
      "justify_items": null,
      "left": null,
      "margin": null,
      "max_height": null,
      "max_width": null,
      "min_height": null,
      "min_width": null,
      "object_fit": null,
      "object_position": null,
      "order": null,
      "overflow": null,
      "overflow_x": null,
      "overflow_y": null,
      "padding": null,
      "right": null,
      "top": null,
      "visibility": null,
      "width": null
     }
    },
    "64dfbb57b62745a781a2a5ceff62269f": {
     "model_module": "@jupyter-widgets/controls",
     "model_module_version": "1.5.0",
     "model_name": "DescriptionStyleModel",
     "state": {
      "_model_module": "@jupyter-widgets/controls",
      "_model_module_version": "1.5.0",
      "_model_name": "DescriptionStyleModel",
      "_view_count": null,
      "_view_module": "@jupyter-widgets/base",
      "_view_module_version": "1.2.0",
      "_view_name": "StyleView",
      "description_width": ""
     }
    },
    "6c235bc3573e4e08af761bcfd196a8db": {
     "model_module": "@jupyter-widgets/base",
     "model_module_version": "1.2.0",
     "model_name": "LayoutModel",
     "state": {
      "_model_module": "@jupyter-widgets/base",
      "_model_module_version": "1.2.0",
      "_model_name": "LayoutModel",
      "_view_count": null,
      "_view_module": "@jupyter-widgets/base",
      "_view_module_version": "1.2.0",
      "_view_name": "LayoutView",
      "align_content": null,
      "align_items": null,
      "align_self": null,
      "border": null,
      "bottom": null,
      "display": null,
      "flex": null,
      "flex_flow": null,
      "grid_area": null,
      "grid_auto_columns": null,
      "grid_auto_flow": null,
      "grid_auto_rows": null,
      "grid_column": null,
      "grid_gap": null,
      "grid_row": null,
      "grid_template_areas": null,
      "grid_template_columns": null,
      "grid_template_rows": null,
      "height": null,
      "justify_content": null,
      "justify_items": null,
      "left": null,
      "margin": null,
      "max_height": null,
      "max_width": null,
      "min_height": null,
      "min_width": null,
      "object_fit": null,
      "object_position": null,
      "order": null,
      "overflow": null,
      "overflow_x": null,
      "overflow_y": null,
      "padding": null,
      "right": null,
      "top": null,
      "visibility": null,
      "width": null
     }
    },
    "735714618b4143dc8dcf6a3c601e93ba": {
     "model_module": "@jupyter-widgets/controls",
     "model_module_version": "1.5.0",
     "model_name": "HTMLModel",
     "state": {
      "_dom_classes": [],
      "_model_module": "@jupyter-widgets/controls",
      "_model_module_version": "1.5.0",
      "_model_name": "HTMLModel",
      "_view_count": null,
      "_view_module": "@jupyter-widgets/controls",
      "_view_module_version": "1.5.0",
      "_view_name": "HTMLView",
      "description": "",
      "description_tooltip": null,
      "layout": "IPY_MODEL_b3fbc8007e3444eca24b785a809c9a74",
      "placeholder": "​",
      "style": "IPY_MODEL_9214ab28e2474a7798a5610ef7ba5484",
      "value": "config.json: 100%"
     }
    },
    "766dfe8416ff490889b441436edd6944": {
     "model_module": "@jupyter-widgets/base",
     "model_module_version": "1.2.0",
     "model_name": "LayoutModel",
     "state": {
      "_model_module": "@jupyter-widgets/base",
      "_model_module_version": "1.2.0",
      "_model_name": "LayoutModel",
      "_view_count": null,
      "_view_module": "@jupyter-widgets/base",
      "_view_module_version": "1.2.0",
      "_view_name": "LayoutView",
      "align_content": null,
      "align_items": null,
      "align_self": null,
      "border": null,
      "bottom": null,
      "display": null,
      "flex": null,
      "flex_flow": null,
      "grid_area": null,
      "grid_auto_columns": null,
      "grid_auto_flow": null,
      "grid_auto_rows": null,
      "grid_column": null,
      "grid_gap": null,
      "grid_row": null,
      "grid_template_areas": null,
      "grid_template_columns": null,
      "grid_template_rows": null,
      "height": null,
      "justify_content": null,
      "justify_items": null,
      "left": null,
      "margin": null,
      "max_height": null,
      "max_width": null,
      "min_height": null,
      "min_width": null,
      "object_fit": null,
      "object_position": null,
      "order": null,
      "overflow": null,
      "overflow_x": null,
      "overflow_y": null,
      "padding": null,
      "right": null,
      "top": null,
      "visibility": null,
      "width": null
     }
    },
    "76af13261c624c9cb83c87d19ebb3aad": {
     "model_module": "@jupyter-widgets/base",
     "model_module_version": "1.2.0",
     "model_name": "LayoutModel",
     "state": {
      "_model_module": "@jupyter-widgets/base",
      "_model_module_version": "1.2.0",
      "_model_name": "LayoutModel",
      "_view_count": null,
      "_view_module": "@jupyter-widgets/base",
      "_view_module_version": "1.2.0",
      "_view_name": "LayoutView",
      "align_content": null,
      "align_items": null,
      "align_self": null,
      "border": null,
      "bottom": null,
      "display": null,
      "flex": null,
      "flex_flow": null,
      "grid_area": null,
      "grid_auto_columns": null,
      "grid_auto_flow": null,
      "grid_auto_rows": null,
      "grid_column": null,
      "grid_gap": null,
      "grid_row": null,
      "grid_template_areas": null,
      "grid_template_columns": null,
      "grid_template_rows": null,
      "height": null,
      "justify_content": null,
      "justify_items": null,
      "left": null,
      "margin": null,
      "max_height": null,
      "max_width": null,
      "min_height": null,
      "min_width": null,
      "object_fit": null,
      "object_position": null,
      "order": null,
      "overflow": null,
      "overflow_x": null,
      "overflow_y": null,
      "padding": null,
      "right": null,
      "top": null,
      "visibility": null,
      "width": null
     }
    },
    "7ae029c6c30e4e9dad878d953c792974": {
     "model_module": "@jupyter-widgets/controls",
     "model_module_version": "1.5.0",
     "model_name": "HTMLModel",
     "state": {
      "_dom_classes": [],
      "_model_module": "@jupyter-widgets/controls",
      "_model_module_version": "1.5.0",
      "_model_name": "HTMLModel",
      "_view_count": null,
      "_view_module": "@jupyter-widgets/controls",
      "_view_module_version": "1.5.0",
      "_view_name": "HTMLView",
      "description": "",
      "description_tooltip": null,
      "layout": "IPY_MODEL_be4b8a71dc3847d59c09501456aa1400",
      "placeholder": "​",
      "style": "IPY_MODEL_64dfbb57b62745a781a2a5ceff62269f",
      "value": " 28.0/28.0 [00:00&lt;00:00, 732B/s]"
     }
    },
    "7f75d5cdd682400abcf0b67a92dc5ce4": {
     "model_module": "@jupyter-widgets/base",
     "model_module_version": "1.2.0",
     "model_name": "LayoutModel",
     "state": {
      "_model_module": "@jupyter-widgets/base",
      "_model_module_version": "1.2.0",
      "_model_name": "LayoutModel",
      "_view_count": null,
      "_view_module": "@jupyter-widgets/base",
      "_view_module_version": "1.2.0",
      "_view_name": "LayoutView",
      "align_content": null,
      "align_items": null,
      "align_self": null,
      "border": null,
      "bottom": null,
      "display": null,
      "flex": null,
      "flex_flow": null,
      "grid_area": null,
      "grid_auto_columns": null,
      "grid_auto_flow": null,
      "grid_auto_rows": null,
      "grid_column": null,
      "grid_gap": null,
      "grid_row": null,
      "grid_template_areas": null,
      "grid_template_columns": null,
      "grid_template_rows": null,
      "height": null,
      "justify_content": null,
      "justify_items": null,
      "left": null,
      "margin": null,
      "max_height": null,
      "max_width": null,
      "min_height": null,
      "min_width": null,
      "object_fit": null,
      "object_position": null,
      "order": null,
      "overflow": null,
      "overflow_x": null,
      "overflow_y": null,
      "padding": null,
      "right": null,
      "top": null,
      "visibility": null,
      "width": null
     }
    },
    "832707f9374c488b910b626e27f359dd": {
     "model_module": "@jupyter-widgets/base",
     "model_module_version": "1.2.0",
     "model_name": "LayoutModel",
     "state": {
      "_model_module": "@jupyter-widgets/base",
      "_model_module_version": "1.2.0",
      "_model_name": "LayoutModel",
      "_view_count": null,
      "_view_module": "@jupyter-widgets/base",
      "_view_module_version": "1.2.0",
      "_view_name": "LayoutView",
      "align_content": null,
      "align_items": null,
      "align_self": null,
      "border": null,
      "bottom": null,
      "display": null,
      "flex": null,
      "flex_flow": null,
      "grid_area": null,
      "grid_auto_columns": null,
      "grid_auto_flow": null,
      "grid_auto_rows": null,
      "grid_column": null,
      "grid_gap": null,
      "grid_row": null,
      "grid_template_areas": null,
      "grid_template_columns": null,
      "grid_template_rows": null,
      "height": null,
      "justify_content": null,
      "justify_items": null,
      "left": null,
      "margin": null,
      "max_height": null,
      "max_width": null,
      "min_height": null,
      "min_width": null,
      "object_fit": null,
      "object_position": null,
      "order": null,
      "overflow": null,
      "overflow_x": null,
      "overflow_y": null,
      "padding": null,
      "right": null,
      "top": null,
      "visibility": null,
      "width": null
     }
    },
    "885076af240744a18dd60009e240f1f2": {
     "model_module": "@jupyter-widgets/base",
     "model_module_version": "1.2.0",
     "model_name": "LayoutModel",
     "state": {
      "_model_module": "@jupyter-widgets/base",
      "_model_module_version": "1.2.0",
      "_model_name": "LayoutModel",
      "_view_count": null,
      "_view_module": "@jupyter-widgets/base",
      "_view_module_version": "1.2.0",
      "_view_name": "LayoutView",
      "align_content": null,
      "align_items": null,
      "align_self": null,
      "border": null,
      "bottom": null,
      "display": null,
      "flex": null,
      "flex_flow": null,
      "grid_area": null,
      "grid_auto_columns": null,
      "grid_auto_flow": null,
      "grid_auto_rows": null,
      "grid_column": null,
      "grid_gap": null,
      "grid_row": null,
      "grid_template_areas": null,
      "grid_template_columns": null,
      "grid_template_rows": null,
      "height": null,
      "justify_content": null,
      "justify_items": null,
      "left": null,
      "margin": null,
      "max_height": null,
      "max_width": null,
      "min_height": null,
      "min_width": null,
      "object_fit": null,
      "object_position": null,
      "order": null,
      "overflow": null,
      "overflow_x": null,
      "overflow_y": null,
      "padding": null,
      "right": null,
      "top": null,
      "visibility": null,
      "width": null
     }
    },
    "8a0aa8428d4141ff8cc8eb0dad4f8471": {
     "model_module": "@jupyter-widgets/controls",
     "model_module_version": "1.5.0",
     "model_name": "HTMLModel",
     "state": {
      "_dom_classes": [],
      "_model_module": "@jupyter-widgets/controls",
      "_model_module_version": "1.5.0",
      "_model_name": "HTMLModel",
      "_view_count": null,
      "_view_module": "@jupyter-widgets/controls",
      "_view_module_version": "1.5.0",
      "_view_name": "HTMLView",
      "description": "",
      "description_tooltip": null,
      "layout": "IPY_MODEL_f3c10475352f48568fa526d863bb7c62",
      "placeholder": "​",
      "style": "IPY_MODEL_a3193bfc2d2f4cb686e3529c1ed5e585",
      "value": " 268M/268M [00:06&lt;00:00, 32.8MB/s]"
     }
    },
    "8a4443c4246a4da4b680f90d6023ed24": {
     "model_module": "@jupyter-widgets/controls",
     "model_module_version": "1.5.0",
     "model_name": "ProgressStyleModel",
     "state": {
      "_model_module": "@jupyter-widgets/controls",
      "_model_module_version": "1.5.0",
      "_model_name": "ProgressStyleModel",
      "_view_count": null,
      "_view_module": "@jupyter-widgets/base",
      "_view_module_version": "1.2.0",
      "_view_name": "StyleView",
      "bar_color": null,
      "description_width": ""
     }
    },
    "8ebf34fdd0c14088b6f8a274c4a590a7": {
     "model_module": "@jupyter-widgets/base",
     "model_module_version": "1.2.0",
     "model_name": "LayoutModel",
     "state": {
      "_model_module": "@jupyter-widgets/base",
      "_model_module_version": "1.2.0",
      "_model_name": "LayoutModel",
      "_view_count": null,
      "_view_module": "@jupyter-widgets/base",
      "_view_module_version": "1.2.0",
      "_view_name": "LayoutView",
      "align_content": null,
      "align_items": null,
      "align_self": null,
      "border": null,
      "bottom": null,
      "display": null,
      "flex": null,
      "flex_flow": null,
      "grid_area": null,
      "grid_auto_columns": null,
      "grid_auto_flow": null,
      "grid_auto_rows": null,
      "grid_column": null,
      "grid_gap": null,
      "grid_row": null,
      "grid_template_areas": null,
      "grid_template_columns": null,
      "grid_template_rows": null,
      "height": null,
      "justify_content": null,
      "justify_items": null,
      "left": null,
      "margin": null,
      "max_height": null,
      "max_width": null,
      "min_height": null,
      "min_width": null,
      "object_fit": null,
      "object_position": null,
      "order": null,
      "overflow": null,
      "overflow_x": null,
      "overflow_y": null,
      "padding": null,
      "right": null,
      "top": null,
      "visibility": null,
      "width": null
     }
    },
    "9214ab28e2474a7798a5610ef7ba5484": {
     "model_module": "@jupyter-widgets/controls",
     "model_module_version": "1.5.0",
     "model_name": "DescriptionStyleModel",
     "state": {
      "_model_module": "@jupyter-widgets/controls",
      "_model_module_version": "1.5.0",
      "_model_name": "DescriptionStyleModel",
      "_view_count": null,
      "_view_module": "@jupyter-widgets/base",
      "_view_module_version": "1.2.0",
      "_view_name": "StyleView",
      "description_width": ""
     }
    },
    "92ef965a5dc84d1fad03fe90e929f423": {
     "model_module": "@jupyter-widgets/base",
     "model_module_version": "1.2.0",
     "model_name": "LayoutModel",
     "state": {
      "_model_module": "@jupyter-widgets/base",
      "_model_module_version": "1.2.0",
      "_model_name": "LayoutModel",
      "_view_count": null,
      "_view_module": "@jupyter-widgets/base",
      "_view_module_version": "1.2.0",
      "_view_name": "LayoutView",
      "align_content": null,
      "align_items": null,
      "align_self": null,
      "border": null,
      "bottom": null,
      "display": null,
      "flex": null,
      "flex_flow": null,
      "grid_area": null,
      "grid_auto_columns": null,
      "grid_auto_flow": null,
      "grid_auto_rows": null,
      "grid_column": null,
      "grid_gap": null,
      "grid_row": null,
      "grid_template_areas": null,
      "grid_template_columns": null,
      "grid_template_rows": null,
      "height": null,
      "justify_content": null,
      "justify_items": null,
      "left": null,
      "margin": null,
      "max_height": null,
      "max_width": null,
      "min_height": null,
      "min_width": null,
      "object_fit": null,
      "object_position": null,
      "order": null,
      "overflow": null,
      "overflow_x": null,
      "overflow_y": null,
      "padding": null,
      "right": null,
      "top": null,
      "visibility": null,
      "width": null
     }
    },
    "9b104f2cb45b47809f474b2cbdd4fe79": {
     "model_module": "@jupyter-widgets/controls",
     "model_module_version": "1.5.0",
     "model_name": "ProgressStyleModel",
     "state": {
      "_model_module": "@jupyter-widgets/controls",
      "_model_module_version": "1.5.0",
      "_model_name": "ProgressStyleModel",
      "_view_count": null,
      "_view_module": "@jupyter-widgets/base",
      "_view_module_version": "1.2.0",
      "_view_name": "StyleView",
      "bar_color": null,
      "description_width": ""
     }
    },
    "9c1e8849bf33409bad4f7af02f31f799": {
     "model_module": "@jupyter-widgets/controls",
     "model_module_version": "1.5.0",
     "model_name": "DescriptionStyleModel",
     "state": {
      "_model_module": "@jupyter-widgets/controls",
      "_model_module_version": "1.5.0",
      "_model_name": "DescriptionStyleModel",
      "_view_count": null,
      "_view_module": "@jupyter-widgets/base",
      "_view_module_version": "1.2.0",
      "_view_name": "StyleView",
      "description_width": ""
     }
    },
    "a31338498ba347fa92a456bc29edb27c": {
     "model_module": "@jupyter-widgets/controls",
     "model_module_version": "1.5.0",
     "model_name": "HBoxModel",
     "state": {
      "_dom_classes": [],
      "_model_module": "@jupyter-widgets/controls",
      "_model_module_version": "1.5.0",
      "_model_name": "HBoxModel",
      "_view_count": null,
      "_view_module": "@jupyter-widgets/controls",
      "_view_module_version": "1.5.0",
      "_view_name": "HBoxView",
      "box_style": "",
      "children": [
       "IPY_MODEL_fa1882129fc54b618ac72845bee6081a",
       "IPY_MODEL_caea65b3733e46b7bb22d867eae98fc5",
       "IPY_MODEL_8a0aa8428d4141ff8cc8eb0dad4f8471"
      ],
      "layout": "IPY_MODEL_bd7d37b84e1443c3ba327685256a8358"
     }
    },
    "a3193bfc2d2f4cb686e3529c1ed5e585": {
     "model_module": "@jupyter-widgets/controls",
     "model_module_version": "1.5.0",
     "model_name": "DescriptionStyleModel",
     "state": {
      "_model_module": "@jupyter-widgets/controls",
      "_model_module_version": "1.5.0",
      "_model_name": "DescriptionStyleModel",
      "_view_count": null,
      "_view_module": "@jupyter-widgets/base",
      "_view_module_version": "1.2.0",
      "_view_name": "StyleView",
      "description_width": ""
     }
    },
    "b3fbc8007e3444eca24b785a809c9a74": {
     "model_module": "@jupyter-widgets/base",
     "model_module_version": "1.2.0",
     "model_name": "LayoutModel",
     "state": {
      "_model_module": "@jupyter-widgets/base",
      "_model_module_version": "1.2.0",
      "_model_name": "LayoutModel",
      "_view_count": null,
      "_view_module": "@jupyter-widgets/base",
      "_view_module_version": "1.2.0",
      "_view_name": "LayoutView",
      "align_content": null,
      "align_items": null,
      "align_self": null,
      "border": null,
      "bottom": null,
      "display": null,
      "flex": null,
      "flex_flow": null,
      "grid_area": null,
      "grid_auto_columns": null,
      "grid_auto_flow": null,
      "grid_auto_rows": null,
      "grid_column": null,
      "grid_gap": null,
      "grid_row": null,
      "grid_template_areas": null,
      "grid_template_columns": null,
      "grid_template_rows": null,
      "height": null,
      "justify_content": null,
      "justify_items": null,
      "left": null,
      "margin": null,
      "max_height": null,
      "max_width": null,
      "min_height": null,
      "min_width": null,
      "object_fit": null,
      "object_position": null,
      "order": null,
      "overflow": null,
      "overflow_x": null,
      "overflow_y": null,
      "padding": null,
      "right": null,
      "top": null,
      "visibility": null,
      "width": null
     }
    },
    "b50856e9adc846d7bde9eef158d57e9c": {
     "model_module": "@jupyter-widgets/controls",
     "model_module_version": "1.5.0",
     "model_name": "HTMLModel",
     "state": {
      "_dom_classes": [],
      "_model_module": "@jupyter-widgets/controls",
      "_model_module_version": "1.5.0",
      "_model_name": "HTMLModel",
      "_view_count": null,
      "_view_module": "@jupyter-widgets/controls",
      "_view_module_version": "1.5.0",
      "_view_name": "HTMLView",
      "description": "",
      "description_tooltip": null,
      "layout": "IPY_MODEL_885076af240744a18dd60009e240f1f2",
      "placeholder": "​",
      "style": "IPY_MODEL_2cada529051d49d89ed7c257e0b2bbd4",
      "value": " 232k/232k [00:00&lt;00:00, 2.68MB/s]"
     }
    },
    "bc357d18b59f4873a5da1c2bc76b1f8b": {
     "model_module": "@jupyter-widgets/controls",
     "model_module_version": "1.5.0",
     "model_name": "HBoxModel",
     "state": {
      "_dom_classes": [],
      "_model_module": "@jupyter-widgets/controls",
      "_model_module_version": "1.5.0",
      "_model_name": "HBoxModel",
      "_view_count": null,
      "_view_module": "@jupyter-widgets/controls",
      "_view_module_version": "1.5.0",
      "_view_name": "HBoxView",
      "box_style": "",
      "children": [
       "IPY_MODEL_db50b0db56cd43869a2fbe54c4cfbd2d",
       "IPY_MODEL_5779a69cc54b404898e82dcb7b7a0e8d",
       "IPY_MODEL_7ae029c6c30e4e9dad878d953c792974"
      ],
      "layout": "IPY_MODEL_d5518f3ad76c4163b6c06299c80741b1"
     }
    },
    "bd7d37b84e1443c3ba327685256a8358": {
     "model_module": "@jupyter-widgets/base",
     "model_module_version": "1.2.0",
     "model_name": "LayoutModel",
     "state": {
      "_model_module": "@jupyter-widgets/base",
      "_model_module_version": "1.2.0",
      "_model_name": "LayoutModel",
      "_view_count": null,
      "_view_module": "@jupyter-widgets/base",
      "_view_module_version": "1.2.0",
      "_view_name": "LayoutView",
      "align_content": null,
      "align_items": null,
      "align_self": null,
      "border": null,
      "bottom": null,
      "display": null,
      "flex": null,
      "flex_flow": null,
      "grid_area": null,
      "grid_auto_columns": null,
      "grid_auto_flow": null,
      "grid_auto_rows": null,
      "grid_column": null,
      "grid_gap": null,
      "grid_row": null,
      "grid_template_areas": null,
      "grid_template_columns": null,
      "grid_template_rows": null,
      "height": null,
      "justify_content": null,
      "justify_items": null,
      "left": null,
      "margin": null,
      "max_height": null,
      "max_width": null,
      "min_height": null,
      "min_width": null,
      "object_fit": null,
      "object_position": null,
      "order": null,
      "overflow": null,
      "overflow_x": null,
      "overflow_y": null,
      "padding": null,
      "right": null,
      "top": null,
      "visibility": null,
      "width": null
     }
    },
    "be4b8a71dc3847d59c09501456aa1400": {
     "model_module": "@jupyter-widgets/base",
     "model_module_version": "1.2.0",
     "model_name": "LayoutModel",
     "state": {
      "_model_module": "@jupyter-widgets/base",
      "_model_module_version": "1.2.0",
      "_model_name": "LayoutModel",
      "_view_count": null,
      "_view_module": "@jupyter-widgets/base",
      "_view_module_version": "1.2.0",
      "_view_name": "LayoutView",
      "align_content": null,
      "align_items": null,
      "align_self": null,
      "border": null,
      "bottom": null,
      "display": null,
      "flex": null,
      "flex_flow": null,
      "grid_area": null,
      "grid_auto_columns": null,
      "grid_auto_flow": null,
      "grid_auto_rows": null,
      "grid_column": null,
      "grid_gap": null,
      "grid_row": null,
      "grid_template_areas": null,
      "grid_template_columns": null,
      "grid_template_rows": null,
      "height": null,
      "justify_content": null,
      "justify_items": null,
      "left": null,
      "margin": null,
      "max_height": null,
      "max_width": null,
      "min_height": null,
      "min_width": null,
      "object_fit": null,
      "object_position": null,
      "order": null,
      "overflow": null,
      "overflow_x": null,
      "overflow_y": null,
      "padding": null,
      "right": null,
      "top": null,
      "visibility": null,
      "width": null
     }
    },
    "c88ddf2867e14a1f80745d12e67eceec": {
     "model_module": "@jupyter-widgets/controls",
     "model_module_version": "1.5.0",
     "model_name": "HTMLModel",
     "state": {
      "_dom_classes": [],
      "_model_module": "@jupyter-widgets/controls",
      "_model_module_version": "1.5.0",
      "_model_name": "HTMLModel",
      "_view_count": null,
      "_view_module": "@jupyter-widgets/controls",
      "_view_module_version": "1.5.0",
      "_view_name": "HTMLView",
      "description": "",
      "description_tooltip": null,
      "layout": "IPY_MODEL_3d5b40df285b4d7f8642f2eb8b71733e",
      "placeholder": "​",
      "style": "IPY_MODEL_9c1e8849bf33409bad4f7af02f31f799",
      "value": "vocab.txt: 100%"
     }
    },
    "caea65b3733e46b7bb22d867eae98fc5": {
     "model_module": "@jupyter-widgets/controls",
     "model_module_version": "1.5.0",
     "model_name": "FloatProgressModel",
     "state": {
      "_dom_classes": [],
      "_model_module": "@jupyter-widgets/controls",
      "_model_module_version": "1.5.0",
      "_model_name": "FloatProgressModel",
      "_view_count": null,
      "_view_module": "@jupyter-widgets/controls",
      "_view_module_version": "1.5.0",
      "_view_name": "ProgressView",
      "bar_style": "success",
      "description": "",
      "description_tooltip": null,
      "layout": "IPY_MODEL_6c235bc3573e4e08af761bcfd196a8db",
      "max": 267954768,
      "min": 0,
      "orientation": "horizontal",
      "style": "IPY_MODEL_eff6a279728f4da6998e2177b85577d9",
      "value": 267954768
     }
    },
    "d3908ac1750347cc936c9509d5362c1b": {
     "model_module": "@jupyter-widgets/controls",
     "model_module_version": "1.5.0",
     "model_name": "FloatProgressModel",
     "state": {
      "_dom_classes": [],
      "_model_module": "@jupyter-widgets/controls",
      "_model_module_version": "1.5.0",
      "_model_name": "FloatProgressModel",
      "_view_count": null,
      "_view_module": "@jupyter-widgets/controls",
      "_view_module_version": "1.5.0",
      "_view_name": "ProgressView",
      "bar_style": "success",
      "description": "",
      "description_tooltip": null,
      "layout": "IPY_MODEL_4bcb37427df44f3db2ea452e1e4f49ed",
      "max": 483,
      "min": 0,
      "orientation": "horizontal",
      "style": "IPY_MODEL_9b104f2cb45b47809f474b2cbdd4fe79",
      "value": 483
     }
    },
    "d543ac89a1a74c4f8dc69b8c99dcc935": {
     "model_module": "@jupyter-widgets/controls",
     "model_module_version": "1.5.0",
     "model_name": "HTMLModel",
     "state": {
      "_dom_classes": [],
      "_model_module": "@jupyter-widgets/controls",
      "_model_module_version": "1.5.0",
      "_model_name": "HTMLModel",
      "_view_count": null,
      "_view_module": "@jupyter-widgets/controls",
      "_view_module_version": "1.5.0",
      "_view_name": "HTMLView",
      "description": "",
      "description_tooltip": null,
      "layout": "IPY_MODEL_2e591336afbf404d94f786c257d7a58c",
      "placeholder": "​",
      "style": "IPY_MODEL_25fdae54709343f689abb49d19ed9584",
      "value": " 483/483 [00:00&lt;00:00, 10.3kB/s]"
     }
    },
    "d5518f3ad76c4163b6c06299c80741b1": {
     "model_module": "@jupyter-widgets/base",
     "model_module_version": "1.2.0",
     "model_name": "LayoutModel",
     "state": {
      "_model_module": "@jupyter-widgets/base",
      "_model_module_version": "1.2.0",
      "_model_name": "LayoutModel",
      "_view_count": null,
      "_view_module": "@jupyter-widgets/base",
      "_view_module_version": "1.2.0",
      "_view_name": "LayoutView",
      "align_content": null,
      "align_items": null,
      "align_self": null,
      "border": null,
      "bottom": null,
      "display": null,
      "flex": null,
      "flex_flow": null,
      "grid_area": null,
      "grid_auto_columns": null,
      "grid_auto_flow": null,
      "grid_auto_rows": null,
      "grid_column": null,
      "grid_gap": null,
      "grid_row": null,
      "grid_template_areas": null,
      "grid_template_columns": null,
      "grid_template_rows": null,
      "height": null,
      "justify_content": null,
      "justify_items": null,
      "left": null,
      "margin": null,
      "max_height": null,
      "max_width": null,
      "min_height": null,
      "min_width": null,
      "object_fit": null,
      "object_position": null,
      "order": null,
      "overflow": null,
      "overflow_x": null,
      "overflow_y": null,
      "padding": null,
      "right": null,
      "top": null,
      "visibility": null,
      "width": null
     }
    },
    "db50b0db56cd43869a2fbe54c4cfbd2d": {
     "model_module": "@jupyter-widgets/controls",
     "model_module_version": "1.5.0",
     "model_name": "HTMLModel",
     "state": {
      "_dom_classes": [],
      "_model_module": "@jupyter-widgets/controls",
      "_model_module_version": "1.5.0",
      "_model_name": "HTMLModel",
      "_view_count": null,
      "_view_module": "@jupyter-widgets/controls",
      "_view_module_version": "1.5.0",
      "_view_name": "HTMLView",
      "description": "",
      "description_tooltip": null,
      "layout": "IPY_MODEL_2e3af817c3c1437184a53e8702671649",
      "placeholder": "​",
      "style": "IPY_MODEL_3f0bbaaf62d2485c80bbbc7088b41ace",
      "value": "tokenizer_config.json: 100%"
     }
    },
    "ec12ddf4fe1d49589e9d2e86281f9a25": {
     "model_module": "@jupyter-widgets/controls",
     "model_module_version": "1.5.0",
     "model_name": "DescriptionStyleModel",
     "state": {
      "_model_module": "@jupyter-widgets/controls",
      "_model_module_version": "1.5.0",
      "_model_name": "DescriptionStyleModel",
      "_view_count": null,
      "_view_module": "@jupyter-widgets/base",
      "_view_module_version": "1.2.0",
      "_view_name": "StyleView",
      "description_width": ""
     }
    },
    "ecf1768b25cf41bab9601dd57e89046e": {
     "model_module": "@jupyter-widgets/controls",
     "model_module_version": "1.5.0",
     "model_name": "HBoxModel",
     "state": {
      "_dom_classes": [],
      "_model_module": "@jupyter-widgets/controls",
      "_model_module_version": "1.5.0",
      "_model_name": "HBoxModel",
      "_view_count": null,
      "_view_module": "@jupyter-widgets/controls",
      "_view_module_version": "1.5.0",
      "_view_name": "HBoxView",
      "box_style": "",
      "children": [
       "IPY_MODEL_735714618b4143dc8dcf6a3c601e93ba",
       "IPY_MODEL_d3908ac1750347cc936c9509d5362c1b",
       "IPY_MODEL_d543ac89a1a74c4f8dc69b8c99dcc935"
      ],
      "layout": "IPY_MODEL_8ebf34fdd0c14088b6f8a274c4a590a7"
     }
    },
    "efcd179df8c94859b32dede664b4abc6": {
     "model_module": "@jupyter-widgets/controls",
     "model_module_version": "1.5.0",
     "model_name": "HTMLModel",
     "state": {
      "_dom_classes": [],
      "_model_module": "@jupyter-widgets/controls",
      "_model_module_version": "1.5.0",
      "_model_name": "HTMLModel",
      "_view_count": null,
      "_view_module": "@jupyter-widgets/controls",
      "_view_module_version": "1.5.0",
      "_view_name": "HTMLView",
      "description": "",
      "description_tooltip": null,
      "layout": "IPY_MODEL_54811c72b4ab466391de6c88aa387757",
      "placeholder": "​",
      "style": "IPY_MODEL_2384b9cfb80f44809dc6dbfaa581d149",
      "value": " 466k/466k [00:00&lt;00:00, 7.23MB/s]"
     }
    },
    "eff6a279728f4da6998e2177b85577d9": {
     "model_module": "@jupyter-widgets/controls",
     "model_module_version": "1.5.0",
     "model_name": "ProgressStyleModel",
     "state": {
      "_model_module": "@jupyter-widgets/controls",
      "_model_module_version": "1.5.0",
      "_model_name": "ProgressStyleModel",
      "_view_count": null,
      "_view_module": "@jupyter-widgets/base",
      "_view_module_version": "1.2.0",
      "_view_name": "StyleView",
      "bar_color": null,
      "description_width": ""
     }
    },
    "f3c10475352f48568fa526d863bb7c62": {
     "model_module": "@jupyter-widgets/base",
     "model_module_version": "1.2.0",
     "model_name": "LayoutModel",
     "state": {
      "_model_module": "@jupyter-widgets/base",
      "_model_module_version": "1.2.0",
      "_model_name": "LayoutModel",
      "_view_count": null,
      "_view_module": "@jupyter-widgets/base",
      "_view_module_version": "1.2.0",
      "_view_name": "LayoutView",
      "align_content": null,
      "align_items": null,
      "align_self": null,
      "border": null,
      "bottom": null,
      "display": null,
      "flex": null,
      "flex_flow": null,
      "grid_area": null,
      "grid_auto_columns": null,
      "grid_auto_flow": null,
      "grid_auto_rows": null,
      "grid_column": null,
      "grid_gap": null,
      "grid_row": null,
      "grid_template_areas": null,
      "grid_template_columns": null,
      "grid_template_rows": null,
      "height": null,
      "justify_content": null,
      "justify_items": null,
      "left": null,
      "margin": null,
      "max_height": null,
      "max_width": null,
      "min_height": null,
      "min_width": null,
      "object_fit": null,
      "object_position": null,
      "order": null,
      "overflow": null,
      "overflow_x": null,
      "overflow_y": null,
      "padding": null,
      "right": null,
      "top": null,
      "visibility": null,
      "width": null
     }
    },
    "f9c22c30d4e54f5cb2c0b4d7aa96a151": {
     "model_module": "@jupyter-widgets/base",
     "model_module_version": "1.2.0",
     "model_name": "LayoutModel",
     "state": {
      "_model_module": "@jupyter-widgets/base",
      "_model_module_version": "1.2.0",
      "_model_name": "LayoutModel",
      "_view_count": null,
      "_view_module": "@jupyter-widgets/base",
      "_view_module_version": "1.2.0",
      "_view_name": "LayoutView",
      "align_content": null,
      "align_items": null,
      "align_self": null,
      "border": null,
      "bottom": null,
      "display": null,
      "flex": null,
      "flex_flow": null,
      "grid_area": null,
      "grid_auto_columns": null,
      "grid_auto_flow": null,
      "grid_auto_rows": null,
      "grid_column": null,
      "grid_gap": null,
      "grid_row": null,
      "grid_template_areas": null,
      "grid_template_columns": null,
      "grid_template_rows": null,
      "height": null,
      "justify_content": null,
      "justify_items": null,
      "left": null,
      "margin": null,
      "max_height": null,
      "max_width": null,
      "min_height": null,
      "min_width": null,
      "object_fit": null,
      "object_position": null,
      "order": null,
      "overflow": null,
      "overflow_x": null,
      "overflow_y": null,
      "padding": null,
      "right": null,
      "top": null,
      "visibility": null,
      "width": null
     }
    },
    "fa1706f5300e42b29f14100e5b858e06": {
     "model_module": "@jupyter-widgets/controls",
     "model_module_version": "1.5.0",
     "model_name": "ProgressStyleModel",
     "state": {
      "_model_module": "@jupyter-widgets/controls",
      "_model_module_version": "1.5.0",
      "_model_name": "ProgressStyleModel",
      "_view_count": null,
      "_view_module": "@jupyter-widgets/base",
      "_view_module_version": "1.2.0",
      "_view_name": "StyleView",
      "bar_color": null,
      "description_width": ""
     }
    },
    "fa1882129fc54b618ac72845bee6081a": {
     "model_module": "@jupyter-widgets/controls",
     "model_module_version": "1.5.0",
     "model_name": "HTMLModel",
     "state": {
      "_dom_classes": [],
      "_model_module": "@jupyter-widgets/controls",
      "_model_module_version": "1.5.0",
      "_model_name": "HTMLModel",
      "_view_count": null,
      "_view_module": "@jupyter-widgets/controls",
      "_view_module_version": "1.5.0",
      "_view_name": "HTMLView",
      "description": "",
      "description_tooltip": null,
      "layout": "IPY_MODEL_92ef965a5dc84d1fad03fe90e929f423",
      "placeholder": "​",
      "style": "IPY_MODEL_ec12ddf4fe1d49589e9d2e86281f9a25",
      "value": "model.safetensors: 100%"
     }
    },
    "fd7caddf999c4bb0a9369f84ba648409": {
     "model_module": "@jupyter-widgets/controls",
     "model_module_version": "1.5.0",
     "model_name": "FloatProgressModel",
     "state": {
      "_dom_classes": [],
      "_model_module": "@jupyter-widgets/controls",
      "_model_module_version": "1.5.0",
      "_model_name": "FloatProgressModel",
      "_view_count": null,
      "_view_module": "@jupyter-widgets/controls",
      "_view_module_version": "1.5.0",
      "_view_name": "ProgressView",
      "bar_style": "success",
      "description": "",
      "description_tooltip": null,
      "layout": "IPY_MODEL_606612d4edff43d8951489ee50ac1a26",
      "max": 466062,
      "min": 0,
      "orientation": "horizontal",
      "style": "IPY_MODEL_fa1706f5300e42b29f14100e5b858e06",
      "value": 466062
     }
    }
   }
  }
 },
 "nbformat": 4,
 "nbformat_minor": 4
}
